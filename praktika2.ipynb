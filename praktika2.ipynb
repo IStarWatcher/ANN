{
  "cells": [
    {
      "cell_type": "markdown",
      "metadata": {
        "id": "YIsThZZYEH0W"
      },
      "source": [
        "# Здание 1"
      ]
    },
    {
      "cell_type": "code",
      "execution_count": 1,
      "metadata": {
        "colab": {
          "base_uri": "https://localhost:8080/",
          "height": 206
        },
        "id": "eDFfRUIQEH0c",
        "outputId": "e5bdfe67-4197-40b0-9116-063dce2c8bed"
      },
      "outputs": [
        {
          "output_type": "execute_result",
          "data": {
            "text/plain": [
              "   MedInc  HouseAge  AveRooms  AveBedrms  Population  AveOccup  Latitude  \\\n",
              "0  8.3252      41.0  6.984127   1.023810       322.0  2.555556     37.88   \n",
              "1  8.3014      21.0  6.238137   0.971880      2401.0  2.109842     37.86   \n",
              "2  7.2574      52.0  8.288136   1.073446       496.0  2.802260     37.85   \n",
              "3  5.6431      52.0  5.817352   1.073059       558.0  2.547945     37.85   \n",
              "4  3.8462      52.0  6.281853   1.081081       565.0  2.181467     37.85   \n",
              "\n",
              "   Longitude  \n",
              "0    -122.23  \n",
              "1    -122.22  \n",
              "2    -122.24  \n",
              "3    -122.25  \n",
              "4    -122.25  "
            ],
            "text/html": [
              "\n",
              "  <div id=\"df-6c3fab74-61df-4494-888c-2474fbf6587b\">\n",
              "    <div class=\"colab-df-container\">\n",
              "      <div>\n",
              "<style scoped>\n",
              "    .dataframe tbody tr th:only-of-type {\n",
              "        vertical-align: middle;\n",
              "    }\n",
              "\n",
              "    .dataframe tbody tr th {\n",
              "        vertical-align: top;\n",
              "    }\n",
              "\n",
              "    .dataframe thead th {\n",
              "        text-align: right;\n",
              "    }\n",
              "</style>\n",
              "<table border=\"1\" class=\"dataframe\">\n",
              "  <thead>\n",
              "    <tr style=\"text-align: right;\">\n",
              "      <th></th>\n",
              "      <th>MedInc</th>\n",
              "      <th>HouseAge</th>\n",
              "      <th>AveRooms</th>\n",
              "      <th>AveBedrms</th>\n",
              "      <th>Population</th>\n",
              "      <th>AveOccup</th>\n",
              "      <th>Latitude</th>\n",
              "      <th>Longitude</th>\n",
              "    </tr>\n",
              "  </thead>\n",
              "  <tbody>\n",
              "    <tr>\n",
              "      <th>0</th>\n",
              "      <td>8.3252</td>\n",
              "      <td>41.0</td>\n",
              "      <td>6.984127</td>\n",
              "      <td>1.023810</td>\n",
              "      <td>322.0</td>\n",
              "      <td>2.555556</td>\n",
              "      <td>37.88</td>\n",
              "      <td>-122.23</td>\n",
              "    </tr>\n",
              "    <tr>\n",
              "      <th>1</th>\n",
              "      <td>8.3014</td>\n",
              "      <td>21.0</td>\n",
              "      <td>6.238137</td>\n",
              "      <td>0.971880</td>\n",
              "      <td>2401.0</td>\n",
              "      <td>2.109842</td>\n",
              "      <td>37.86</td>\n",
              "      <td>-122.22</td>\n",
              "    </tr>\n",
              "    <tr>\n",
              "      <th>2</th>\n",
              "      <td>7.2574</td>\n",
              "      <td>52.0</td>\n",
              "      <td>8.288136</td>\n",
              "      <td>1.073446</td>\n",
              "      <td>496.0</td>\n",
              "      <td>2.802260</td>\n",
              "      <td>37.85</td>\n",
              "      <td>-122.24</td>\n",
              "    </tr>\n",
              "    <tr>\n",
              "      <th>3</th>\n",
              "      <td>5.6431</td>\n",
              "      <td>52.0</td>\n",
              "      <td>5.817352</td>\n",
              "      <td>1.073059</td>\n",
              "      <td>558.0</td>\n",
              "      <td>2.547945</td>\n",
              "      <td>37.85</td>\n",
              "      <td>-122.25</td>\n",
              "    </tr>\n",
              "    <tr>\n",
              "      <th>4</th>\n",
              "      <td>3.8462</td>\n",
              "      <td>52.0</td>\n",
              "      <td>6.281853</td>\n",
              "      <td>1.081081</td>\n",
              "      <td>565.0</td>\n",
              "      <td>2.181467</td>\n",
              "      <td>37.85</td>\n",
              "      <td>-122.25</td>\n",
              "    </tr>\n",
              "  </tbody>\n",
              "</table>\n",
              "</div>\n",
              "      <button class=\"colab-df-convert\" onclick=\"convertToInteractive('df-6c3fab74-61df-4494-888c-2474fbf6587b')\"\n",
              "              title=\"Convert this dataframe to an interactive table.\"\n",
              "              style=\"display:none;\">\n",
              "        \n",
              "  <svg xmlns=\"http://www.w3.org/2000/svg\" height=\"24px\"viewBox=\"0 0 24 24\"\n",
              "       width=\"24px\">\n",
              "    <path d=\"M0 0h24v24H0V0z\" fill=\"none\"/>\n",
              "    <path d=\"M18.56 5.44l.94 2.06.94-2.06 2.06-.94-2.06-.94-.94-2.06-.94 2.06-2.06.94zm-11 1L8.5 8.5l.94-2.06 2.06-.94-2.06-.94L8.5 2.5l-.94 2.06-2.06.94zm10 10l.94 2.06.94-2.06 2.06-.94-2.06-.94-.94-2.06-.94 2.06-2.06.94z\"/><path d=\"M17.41 7.96l-1.37-1.37c-.4-.4-.92-.59-1.43-.59-.52 0-1.04.2-1.43.59L10.3 9.45l-7.72 7.72c-.78.78-.78 2.05 0 2.83L4 21.41c.39.39.9.59 1.41.59.51 0 1.02-.2 1.41-.59l7.78-7.78 2.81-2.81c.8-.78.8-2.07 0-2.86zM5.41 20L4 18.59l7.72-7.72 1.47 1.35L5.41 20z\"/>\n",
              "  </svg>\n",
              "      </button>\n",
              "      \n",
              "  <style>\n",
              "    .colab-df-container {\n",
              "      display:flex;\n",
              "      flex-wrap:wrap;\n",
              "      gap: 12px;\n",
              "    }\n",
              "\n",
              "    .colab-df-convert {\n",
              "      background-color: #E8F0FE;\n",
              "      border: none;\n",
              "      border-radius: 50%;\n",
              "      cursor: pointer;\n",
              "      display: none;\n",
              "      fill: #1967D2;\n",
              "      height: 32px;\n",
              "      padding: 0 0 0 0;\n",
              "      width: 32px;\n",
              "    }\n",
              "\n",
              "    .colab-df-convert:hover {\n",
              "      background-color: #E2EBFA;\n",
              "      box-shadow: 0px 1px 2px rgba(60, 64, 67, 0.3), 0px 1px 3px 1px rgba(60, 64, 67, 0.15);\n",
              "      fill: #174EA6;\n",
              "    }\n",
              "\n",
              "    [theme=dark] .colab-df-convert {\n",
              "      background-color: #3B4455;\n",
              "      fill: #D2E3FC;\n",
              "    }\n",
              "\n",
              "    [theme=dark] .colab-df-convert:hover {\n",
              "      background-color: #434B5C;\n",
              "      box-shadow: 0px 1px 3px 1px rgba(0, 0, 0, 0.15);\n",
              "      filter: drop-shadow(0px 1px 2px rgba(0, 0, 0, 0.3));\n",
              "      fill: #FFFFFF;\n",
              "    }\n",
              "  </style>\n",
              "\n",
              "      <script>\n",
              "        const buttonEl =\n",
              "          document.querySelector('#df-6c3fab74-61df-4494-888c-2474fbf6587b button.colab-df-convert');\n",
              "        buttonEl.style.display =\n",
              "          google.colab.kernel.accessAllowed ? 'block' : 'none';\n",
              "\n",
              "        async function convertToInteractive(key) {\n",
              "          const element = document.querySelector('#df-6c3fab74-61df-4494-888c-2474fbf6587b');\n",
              "          const dataTable =\n",
              "            await google.colab.kernel.invokeFunction('convertToInteractive',\n",
              "                                                     [key], {});\n",
              "          if (!dataTable) return;\n",
              "\n",
              "          const docLinkHtml = 'Like what you see? Visit the ' +\n",
              "            '<a target=\"_blank\" href=https://colab.research.google.com/notebooks/data_table.ipynb>data table notebook</a>'\n",
              "            + ' to learn more about interactive tables.';\n",
              "          element.innerHTML = '';\n",
              "          dataTable['output_type'] = 'display_data';\n",
              "          await google.colab.output.renderOutput(dataTable, element);\n",
              "          const docLink = document.createElement('div');\n",
              "          docLink.innerHTML = docLinkHtml;\n",
              "          element.appendChild(docLink);\n",
              "        }\n",
              "      </script>\n",
              "    </div>\n",
              "  </div>\n",
              "  "
            ]
          },
          "metadata": {},
          "execution_count": 1
        }
      ],
      "source": [
        "from sklearn.datasets import fetch_california_housing\n",
        "import pandas as pd\n",
        "\n",
        "\n",
        "data = fetch_california_housing()\n",
        "\n",
        "X = pd.DataFrame(data['data'], columns=data['feature_names'])\n",
        "y = data['target']\n",
        "\n",
        "X.head()"
      ]
    },
    {
      "cell_type": "markdown",
      "metadata": {
        "id": "fLdhAY0tEH0f"
      },
      "source": [
        "#### 1.1. Разбейте данные на обучение и тест"
      ]
    },
    {
      "cell_type": "code",
      "execution_count": 2,
      "metadata": {
        "colab": {
          "base_uri": "https://localhost:8080/"
        },
        "id": "L1fwfltmEH0g",
        "outputId": "a542dee9-53c2-4f97-9532-634fdd07d71b"
      },
      "outputs": [
        {
          "output_type": "execute_result",
          "data": {
            "text/plain": [
              "((16512, 8), (4128, 8))"
            ]
          },
          "metadata": {},
          "execution_count": 2
        }
      ],
      "source": [
        "from sklearn.model_selection import train_test_split\n",
        "\n",
        "X_train, X_test, y_train, y_test = train_test_split(X.values, y, test_size=0.2, random_state=0)\n",
        "X_train.shape, X_test.shape"
      ]
    },
    {
      "cell_type": "markdown",
      "metadata": {
        "id": "L7z550EpEH0h"
      },
      "source": [
        "#### 1.2. Создайте архитектуру для этой задачи"
      ]
    },
    {
      "cell_type": "code",
      "execution_count": 15,
      "metadata": {
        "id": "RfmyJfx2EH0h",
        "colab": {
          "base_uri": "https://localhost:8080/",
          "height": 53
        },
        "outputId": "7baffff6-648b-40cb-d45c-0e735a2ea583"
      },
      "outputs": [
        {
          "output_type": "execute_result",
          "data": {
            "text/plain": [
              "\"\\nmodel.add(Dense(128, input_shape=(8, ), activation='relu', name='dense_1'))\\nmodel.add(Dense(64, activation='relu', name='dense_2'))\\nmodel.add(Dense(1, activation='linear', name='dense_output'))\\n\""
            ],
            "application/vnd.google.colaboratory.intrinsic+json": {
              "type": "string"
            }
          },
          "metadata": {},
          "execution_count": 15
        }
      ],
      "source": [
        "from keras.models import Sequential\n",
        "from keras.layers import Dense, Flatten\n",
        "\n",
        "model = Sequential()\n",
        "\n",
        "model.add(Dense(8, input_shape=(8, ), activation='relu', name='dense_1'))\n",
        "\n",
        "model.add(Dense(8, activation='relu', name='dense_2'))\n",
        "\n",
        "model.add(Dense(8, activation='relu', name='dense_3'))\n",
        "\n",
        "#model.add(Dense(32, activation='relu', name='dense_4'))\n",
        "\n",
        "#model.add(Dense(16, activation='relu', name='dense_5'))\n",
        "#model.add(Dense(64, activation='relu', name='dense_4'))\n",
        "model.add(Dense(1, activation='linear', name='dense_output'))\n",
        "'''\n",
        "model.add(Dense(128, input_shape=(8, ), activation='relu', name='dense_1'))\n",
        "model.add(Dense(64, activation='relu', name='dense_2'))\n",
        "model.add(Dense(1, activation='linear', name='dense_output'))\n",
        "'''\n"
      ]
    },
    {
      "cell_type": "markdown",
      "metadata": {
        "id": "jGGQCIbnEH0i"
      },
      "source": [
        "#### 1.3. Скомпилируйте сеть\n",
        "\n",
        "Подберите нужную функцию потерь и метрику. Оптимизатор можете использовать 'sgd'"
      ]
    },
    {
      "cell_type": "code",
      "execution_count": 16,
      "metadata": {
        "colab": {
          "base_uri": "https://localhost:8080/"
        },
        "id": "Dog03hlZEH0i",
        "outputId": "dcda39f6-1b52-4f14-ec9b-15d763697229"
      },
      "outputs": [
        {
          "output_type": "stream",
          "name": "stdout",
          "text": [
            "Model: \"sequential_3\"\n",
            "_________________________________________________________________\n",
            " Layer (type)                Output Shape              Param #   \n",
            "=================================================================\n",
            " dense_1 (Dense)             (None, 8)                 72        \n",
            "                                                                 \n",
            " dense_2 (Dense)             (None, 8)                 72        \n",
            "                                                                 \n",
            " dense_3 (Dense)             (None, 8)                 72        \n",
            "                                                                 \n",
            " dense_output (Dense)        (None, 1)                 9         \n",
            "                                                                 \n",
            "=================================================================\n",
            "Total params: 225\n",
            "Trainable params: 225\n",
            "Non-trainable params: 0\n",
            "_________________________________________________________________\n"
          ]
        },
        {
          "output_type": "stream",
          "name": "stderr",
          "text": [
            "/usr/local/lib/python3.9/dist-packages/keras/optimizers/legacy/adam.py:117: UserWarning: The `lr` argument is deprecated, use `learning_rate` instead.\n",
            "  super().__init__(name, **kwargs)\n"
          ]
        }
      ],
      "source": [
        "from keras.optimizers import Adam\n",
        "\n",
        "opt = Adam(lr=0.00001)\n",
        "\n",
        "model.compile(optimizer=opt, loss='mse', metrics='mae')\n",
        "model.summary()"
      ]
    },
    {
      "cell_type": "markdown",
      "metadata": {
        "id": "qtqYo5CaEH0j"
      },
      "source": [
        "#### 1.4. Обучите нейросеть\n",
        "\n",
        "Выберите нужное количество эпох."
      ]
    },
    {
      "cell_type": "code",
      "execution_count": 17,
      "metadata": {
        "id": "ExRe5BDyEH0j"
      },
      "outputs": [],
      "source": [
        "from sklearn.preprocessing import MinMaxScaler\n",
        "\n",
        "mms = MinMaxScaler()\n",
        "X_norm_train = mms.fit_transform(X_train)\n",
        "X_norm_test = mms.fit_transform(X_test)"
      ]
    },
    {
      "cell_type": "code",
      "source": [
        "%%time\n",
        "model.fit(X_norm_train, y_train, validation_data=(X_norm_test, y_test), epochs=300)"
      ],
      "metadata": {
        "colab": {
          "base_uri": "https://localhost:8080/"
        },
        "id": "E-aOam2YPsQW",
        "outputId": "735b9542-17b3-41b2-8b8c-531462e4fe26"
      },
      "execution_count": 18,
      "outputs": [
        {
          "output_type": "stream",
          "name": "stdout",
          "text": [
            "Epoch 1/300\n",
            "516/516 [==============================] - 2s 2ms/step - loss: 5.9467 - mae: 2.1449 - val_loss: 5.7550 - val_mae: 2.1088\n",
            "Epoch 2/300\n",
            "516/516 [==============================] - 1s 2ms/step - loss: 5.8541 - mae: 2.1237 - val_loss: 5.6667 - val_mae: 2.0882\n",
            "Epoch 3/300\n",
            "516/516 [==============================] - 1s 3ms/step - loss: 5.7636 - mae: 2.1026 - val_loss: 5.5791 - val_mae: 2.0675\n",
            "Epoch 4/300\n",
            "516/516 [==============================] - 2s 3ms/step - loss: 5.6696 - mae: 2.0803 - val_loss: 5.4856 - val_mae: 2.0449\n",
            "Epoch 5/300\n",
            "516/516 [==============================] - 1s 2ms/step - loss: 5.5652 - mae: 2.0553 - val_loss: 5.3789 - val_mae: 2.0189\n",
            "Epoch 6/300\n",
            "516/516 [==============================] - 1s 2ms/step - loss: 5.4401 - mae: 2.0252 - val_loss: 5.2547 - val_mae: 1.9883\n",
            "Epoch 7/300\n",
            "516/516 [==============================] - 1s 2ms/step - loss: 5.2750 - mae: 1.9848 - val_loss: 5.0889 - val_mae: 1.9469\n",
            "Epoch 8/300\n",
            "516/516 [==============================] - 1s 2ms/step - loss: 5.1068 - mae: 1.9426 - val_loss: 4.9332 - val_mae: 1.9068\n",
            "Epoch 9/300\n",
            "516/516 [==============================] - 1s 2ms/step - loss: 4.9531 - mae: 1.9031 - val_loss: 4.7869 - val_mae: 1.8684\n",
            "Epoch 10/300\n",
            "516/516 [==============================] - 1s 2ms/step - loss: 4.8061 - mae: 1.8646 - val_loss: 4.6457 - val_mae: 1.8306\n",
            "Epoch 11/300\n",
            "516/516 [==============================] - 1s 2ms/step - loss: 4.6623 - mae: 1.8262 - val_loss: 4.5064 - val_mae: 1.7925\n",
            "Epoch 12/300\n",
            "516/516 [==============================] - 1s 2ms/step - loss: 4.5201 - mae: 1.7874 - val_loss: 4.3668 - val_mae: 1.7535\n",
            "Epoch 13/300\n",
            "516/516 [==============================] - 1s 2ms/step - loss: 4.3777 - mae: 1.7478 - val_loss: 4.2240 - val_mae: 1.7128\n",
            "Epoch 14/300\n",
            "516/516 [==============================] - 2s 3ms/step - loss: 4.2327 - mae: 1.7065 - val_loss: 4.0772 - val_mae: 1.6701\n",
            "Epoch 15/300\n",
            "516/516 [==============================] - 1s 3ms/step - loss: 4.0844 - mae: 1.6634 - val_loss: 3.9271 - val_mae: 1.6253\n",
            "Epoch 16/300\n",
            "516/516 [==============================] - 1s 2ms/step - loss: 3.9338 - mae: 1.6187 - val_loss: 3.7755 - val_mae: 1.5790\n",
            "Epoch 17/300\n",
            "516/516 [==============================] - 1s 2ms/step - loss: 3.7817 - mae: 1.5724 - val_loss: 3.6233 - val_mae: 1.5315\n",
            "Epoch 18/300\n",
            "516/516 [==============================] - 1s 2ms/step - loss: 3.6289 - mae: 1.5255 - val_loss: 3.4706 - val_mae: 1.4837\n",
            "Epoch 19/300\n",
            "516/516 [==============================] - 1s 2ms/step - loss: 3.4758 - mae: 1.4781 - val_loss: 3.3185 - val_mae: 1.4359\n",
            "Epoch 20/300\n",
            "516/516 [==============================] - 1s 2ms/step - loss: 3.3232 - mae: 1.4307 - val_loss: 3.1669 - val_mae: 1.3880\n",
            "Epoch 21/300\n",
            "516/516 [==============================] - 1s 2ms/step - loss: 3.1716 - mae: 1.3835 - val_loss: 3.0163 - val_mae: 1.3404\n",
            "Epoch 22/300\n",
            "516/516 [==============================] - 1s 2ms/step - loss: 3.0220 - mae: 1.3367 - val_loss: 2.8683 - val_mae: 1.2935\n",
            "Epoch 23/300\n",
            "516/516 [==============================] - 1s 2ms/step - loss: 2.8746 - mae: 1.2909 - val_loss: 2.7225 - val_mae: 1.2471\n",
            "Epoch 24/300\n",
            "516/516 [==============================] - 1s 2ms/step - loss: 2.7286 - mae: 1.2452 - val_loss: 2.5786 - val_mae: 1.2013\n",
            "Epoch 25/300\n",
            "516/516 [==============================] - 2s 3ms/step - loss: 2.5839 - mae: 1.1999 - val_loss: 2.4369 - val_mae: 1.1567\n",
            "Epoch 26/300\n",
            "516/516 [==============================] - 2s 3ms/step - loss: 2.4408 - mae: 1.1557 - val_loss: 2.2978 - val_mae: 1.1133\n",
            "Epoch 27/300\n",
            "516/516 [==============================] - 2s 3ms/step - loss: 2.3012 - mae: 1.1134 - val_loss: 2.1624 - val_mae: 1.0715\n",
            "Epoch 28/300\n",
            "516/516 [==============================] - 1s 2ms/step - loss: 2.1659 - mae: 1.0730 - val_loss: 2.0318 - val_mae: 1.0324\n",
            "Epoch 29/300\n",
            "516/516 [==============================] - 1s 2ms/step - loss: 2.0356 - mae: 1.0349 - val_loss: 1.9072 - val_mae: 0.9962\n",
            "Epoch 30/300\n",
            "516/516 [==============================] - 1s 2ms/step - loss: 1.9111 - mae: 0.9995 - val_loss: 1.7897 - val_mae: 0.9630\n",
            "Epoch 31/300\n",
            "516/516 [==============================] - 1s 2ms/step - loss: 1.7937 - mae: 0.9668 - val_loss: 1.6809 - val_mae: 0.9334\n",
            "Epoch 32/300\n",
            "516/516 [==============================] - 1s 2ms/step - loss: 1.6856 - mae: 0.9376 - val_loss: 1.5819 - val_mae: 0.9076\n",
            "Epoch 33/300\n",
            "516/516 [==============================] - 1s 2ms/step - loss: 1.5882 - mae: 0.9125 - val_loss: 1.4944 - val_mae: 0.8864\n",
            "Epoch 34/300\n",
            "516/516 [==============================] - 1s 2ms/step - loss: 1.5018 - mae: 0.8918 - val_loss: 1.4181 - val_mae: 0.8700\n",
            "Epoch 35/300\n",
            "516/516 [==============================] - 1s 2ms/step - loss: 1.4271 - mae: 0.8753 - val_loss: 1.3546 - val_mae: 0.8585\n",
            "Epoch 36/300\n",
            "516/516 [==============================] - 1s 2ms/step - loss: 1.3645 - mae: 0.8633 - val_loss: 1.3030 - val_mae: 0.8513\n",
            "Epoch 37/300\n",
            "516/516 [==============================] - 1s 3ms/step - loss: 1.3133 - mae: 0.8557 - val_loss: 1.2628 - val_mae: 0.8481\n",
            "Epoch 38/300\n",
            "516/516 [==============================] - 1s 3ms/step - loss: 1.2724 - mae: 0.8515 - val_loss: 1.2325 - val_mae: 0.8480\n",
            "Epoch 39/300\n",
            "516/516 [==============================] - 1s 2ms/step - loss: 1.2406 - mae: 0.8499 - val_loss: 1.2108 - val_mae: 0.8502\n",
            "Epoch 40/300\n",
            "516/516 [==============================] - 1s 2ms/step - loss: 1.2179 - mae: 0.8511 - val_loss: 1.1969 - val_mae: 0.8533\n",
            "Epoch 41/300\n",
            "516/516 [==============================] - 1s 2ms/step - loss: 1.2020 - mae: 0.8524 - val_loss: 1.1877 - val_mae: 0.8563\n",
            "Epoch 42/300\n",
            "516/516 [==============================] - 1s 2ms/step - loss: 1.1904 - mae: 0.8540 - val_loss: 1.1809 - val_mae: 0.8585\n",
            "Epoch 43/300\n",
            "516/516 [==============================] - 1s 2ms/step - loss: 1.1815 - mae: 0.8548 - val_loss: 1.1750 - val_mae: 0.8599\n",
            "Epoch 44/300\n",
            "516/516 [==============================] - 1s 2ms/step - loss: 1.1740 - mae: 0.8552 - val_loss: 1.1695 - val_mae: 0.8604\n",
            "Epoch 45/300\n",
            "516/516 [==============================] - 1s 2ms/step - loss: 1.1672 - mae: 0.8551 - val_loss: 1.1640 - val_mae: 0.8597\n",
            "Epoch 46/300\n",
            "516/516 [==============================] - 1s 2ms/step - loss: 1.1605 - mae: 0.8534 - val_loss: 1.1583 - val_mae: 0.8587\n",
            "Epoch 47/300\n",
            "516/516 [==============================] - 1s 3ms/step - loss: 1.1537 - mae: 0.8520 - val_loss: 1.1522 - val_mae: 0.8568\n",
            "Epoch 48/300\n",
            "516/516 [==============================] - 1s 3ms/step - loss: 1.1468 - mae: 0.8501 - val_loss: 1.1459 - val_mae: 0.8546\n",
            "Epoch 49/300\n",
            "516/516 [==============================] - 1s 2ms/step - loss: 1.1397 - mae: 0.8477 - val_loss: 1.1393 - val_mae: 0.8524\n",
            "Epoch 50/300\n",
            "516/516 [==============================] - 1s 2ms/step - loss: 1.1323 - mae: 0.8444 - val_loss: 1.1321 - val_mae: 0.8496\n",
            "Epoch 51/300\n",
            "516/516 [==============================] - 1s 2ms/step - loss: 1.1245 - mae: 0.8417 - val_loss: 1.1246 - val_mae: 0.8467\n",
            "Epoch 52/300\n",
            "516/516 [==============================] - 1s 2ms/step - loss: 1.1165 - mae: 0.8385 - val_loss: 1.1167 - val_mae: 0.8438\n",
            "Epoch 53/300\n",
            "516/516 [==============================] - 1s 2ms/step - loss: 1.1081 - mae: 0.8359 - val_loss: 1.1083 - val_mae: 0.8403\n",
            "Epoch 54/300\n",
            "516/516 [==============================] - 1s 2ms/step - loss: 1.0993 - mae: 0.8322 - val_loss: 1.0997 - val_mae: 0.8368\n",
            "Epoch 55/300\n",
            "516/516 [==============================] - 1s 2ms/step - loss: 1.0903 - mae: 0.8283 - val_loss: 1.0908 - val_mae: 0.8333\n",
            "Epoch 56/300\n",
            "516/516 [==============================] - 1s 2ms/step - loss: 1.0811 - mae: 0.8257 - val_loss: 1.0816 - val_mae: 0.8292\n",
            "Epoch 57/300\n",
            "516/516 [==============================] - 1s 2ms/step - loss: 1.0717 - mae: 0.8214 - val_loss: 1.0721 - val_mae: 0.8251\n",
            "Epoch 58/300\n",
            "516/516 [==============================] - 1s 3ms/step - loss: 1.0622 - mae: 0.8174 - val_loss: 1.0629 - val_mae: 0.8214\n",
            "Epoch 59/300\n",
            "516/516 [==============================] - 2s 3ms/step - loss: 1.0527 - mae: 0.8138 - val_loss: 1.0536 - val_mae: 0.8176\n",
            "Epoch 60/300\n",
            "516/516 [==============================] - 1s 2ms/step - loss: 1.0433 - mae: 0.8097 - val_loss: 1.0445 - val_mae: 0.8141\n",
            "Epoch 61/300\n",
            "516/516 [==============================] - 1s 2ms/step - loss: 1.0341 - mae: 0.8066 - val_loss: 1.0357 - val_mae: 0.8104\n",
            "Epoch 62/300\n",
            "516/516 [==============================] - 1s 2ms/step - loss: 1.0254 - mae: 0.8027 - val_loss: 1.0272 - val_mae: 0.8071\n",
            "Epoch 63/300\n",
            "516/516 [==============================] - 1s 2ms/step - loss: 1.0169 - mae: 0.7998 - val_loss: 1.0188 - val_mae: 0.8036\n",
            "Epoch 64/300\n",
            "516/516 [==============================] - 1s 2ms/step - loss: 1.0085 - mae: 0.7964 - val_loss: 1.0107 - val_mae: 0.8002\n",
            "Epoch 65/300\n",
            "516/516 [==============================] - 1s 2ms/step - loss: 1.0003 - mae: 0.7929 - val_loss: 1.0027 - val_mae: 0.7970\n",
            "Epoch 66/300\n",
            "516/516 [==============================] - 1s 2ms/step - loss: 0.9923 - mae: 0.7898 - val_loss: 0.9947 - val_mae: 0.7935\n",
            "Epoch 67/300\n",
            "516/516 [==============================] - 1s 2ms/step - loss: 0.9843 - mae: 0.7860 - val_loss: 0.9870 - val_mae: 0.7905\n",
            "Epoch 68/300\n",
            "516/516 [==============================] - 1s 2ms/step - loss: 0.9764 - mae: 0.7828 - val_loss: 0.9793 - val_mae: 0.7873\n",
            "Epoch 69/300\n",
            "516/516 [==============================] - 1s 2ms/step - loss: 0.9685 - mae: 0.7797 - val_loss: 0.9716 - val_mae: 0.7840\n",
            "Epoch 70/300\n",
            "516/516 [==============================] - 1s 3ms/step - loss: 0.9606 - mae: 0.7764 - val_loss: 0.9638 - val_mae: 0.7805\n",
            "Epoch 71/300\n",
            "516/516 [==============================] - 2s 3ms/step - loss: 0.9528 - mae: 0.7733 - val_loss: 0.9560 - val_mae: 0.7766\n",
            "Epoch 72/300\n",
            "516/516 [==============================] - 1s 2ms/step - loss: 0.9452 - mae: 0.7694 - val_loss: 0.9484 - val_mae: 0.7733\n",
            "Epoch 73/300\n",
            "516/516 [==============================] - 1s 2ms/step - loss: 0.9377 - mae: 0.7661 - val_loss: 0.9410 - val_mae: 0.7698\n",
            "Epoch 74/300\n",
            "516/516 [==============================] - 1s 2ms/step - loss: 0.9303 - mae: 0.7632 - val_loss: 0.9335 - val_mae: 0.7662\n",
            "Epoch 75/300\n",
            "516/516 [==============================] - 1s 2ms/step - loss: 0.9230 - mae: 0.7601 - val_loss: 0.9261 - val_mae: 0.7626\n",
            "Epoch 76/300\n",
            "516/516 [==============================] - 1s 2ms/step - loss: 0.9157 - mae: 0.7565 - val_loss: 0.9187 - val_mae: 0.7590\n",
            "Epoch 77/300\n",
            "516/516 [==============================] - 1s 2ms/step - loss: 0.9084 - mae: 0.7529 - val_loss: 0.9114 - val_mae: 0.7558\n",
            "Epoch 78/300\n",
            "516/516 [==============================] - 1s 2ms/step - loss: 0.9010 - mae: 0.7500 - val_loss: 0.9038 - val_mae: 0.7516\n",
            "Epoch 79/300\n",
            "516/516 [==============================] - 1s 2ms/step - loss: 0.8936 - mae: 0.7469 - val_loss: 0.8964 - val_mae: 0.7479\n",
            "Epoch 80/300\n",
            "516/516 [==============================] - 1s 2ms/step - loss: 0.8861 - mae: 0.7425 - val_loss: 0.8890 - val_mae: 0.7440\n",
            "Epoch 81/300\n",
            "516/516 [==============================] - 1s 3ms/step - loss: 0.8785 - mae: 0.7395 - val_loss: 0.8817 - val_mae: 0.7401\n",
            "Epoch 82/300\n",
            "516/516 [==============================] - 2s 3ms/step - loss: 0.8708 - mae: 0.7356 - val_loss: 0.8746 - val_mae: 0.7360\n",
            "Epoch 83/300\n",
            "516/516 [==============================] - 1s 2ms/step - loss: 0.8632 - mae: 0.7317 - val_loss: 0.8676 - val_mae: 0.7324\n",
            "Epoch 84/300\n",
            "516/516 [==============================] - 1s 2ms/step - loss: 0.8556 - mae: 0.7285 - val_loss: 0.8607 - val_mae: 0.7281\n",
            "Epoch 85/300\n",
            "516/516 [==============================] - 1s 2ms/step - loss: 0.8481 - mae: 0.7244 - val_loss: 0.8540 - val_mae: 0.7244\n",
            "Epoch 86/300\n",
            "516/516 [==============================] - 1s 2ms/step - loss: 0.8407 - mae: 0.7212 - val_loss: 0.8472 - val_mae: 0.7205\n",
            "Epoch 87/300\n",
            "516/516 [==============================] - 1s 2ms/step - loss: 0.8334 - mae: 0.7175 - val_loss: 0.8407 - val_mae: 0.7167\n",
            "Epoch 88/300\n",
            "516/516 [==============================] - 1s 2ms/step - loss: 0.8262 - mae: 0.7133 - val_loss: 0.8341 - val_mae: 0.7135\n",
            "Epoch 89/300\n",
            "516/516 [==============================] - 1s 2ms/step - loss: 0.8190 - mae: 0.7102 - val_loss: 0.8276 - val_mae: 0.7099\n",
            "Epoch 90/300\n",
            "516/516 [==============================] - 1s 2ms/step - loss: 0.8119 - mae: 0.7065 - val_loss: 0.8212 - val_mae: 0.7060\n",
            "Epoch 91/300\n",
            "516/516 [==============================] - 1s 3ms/step - loss: 0.8049 - mae: 0.7030 - val_loss: 0.8148 - val_mae: 0.7026\n",
            "Epoch 92/300\n",
            "516/516 [==============================] - 1s 3ms/step - loss: 0.7980 - mae: 0.7000 - val_loss: 0.8086 - val_mae: 0.6986\n",
            "Epoch 93/300\n",
            "516/516 [==============================] - 2s 3ms/step - loss: 0.7912 - mae: 0.6956 - val_loss: 0.8025 - val_mae: 0.6952\n",
            "Epoch 94/300\n",
            "516/516 [==============================] - 1s 2ms/step - loss: 0.7846 - mae: 0.6925 - val_loss: 0.7966 - val_mae: 0.6915\n",
            "Epoch 95/300\n",
            "516/516 [==============================] - 1s 2ms/step - loss: 0.7781 - mae: 0.6888 - val_loss: 0.7906 - val_mae: 0.6883\n",
            "Epoch 96/300\n",
            "516/516 [==============================] - 1s 2ms/step - loss: 0.7716 - mae: 0.6855 - val_loss: 0.7848 - val_mae: 0.6848\n",
            "Epoch 97/300\n",
            "516/516 [==============================] - 1s 2ms/step - loss: 0.7653 - mae: 0.6820 - val_loss: 0.7791 - val_mae: 0.6813\n",
            "Epoch 98/300\n",
            "516/516 [==============================] - 1s 2ms/step - loss: 0.7590 - mae: 0.6786 - val_loss: 0.7735 - val_mae: 0.6778\n",
            "Epoch 99/300\n",
            "516/516 [==============================] - 1s 2ms/step - loss: 0.7528 - mae: 0.6753 - val_loss: 0.7679 - val_mae: 0.6743\n",
            "Epoch 100/300\n",
            "516/516 [==============================] - 1s 2ms/step - loss: 0.7467 - mae: 0.6716 - val_loss: 0.7623 - val_mae: 0.6709\n",
            "Epoch 101/300\n",
            "516/516 [==============================] - 1s 2ms/step - loss: 0.7407 - mae: 0.6684 - val_loss: 0.7571 - val_mae: 0.6671\n",
            "Epoch 102/300\n",
            "516/516 [==============================] - 1s 3ms/step - loss: 0.7349 - mae: 0.6650 - val_loss: 0.7519 - val_mae: 0.6639\n",
            "Epoch 103/300\n",
            "516/516 [==============================] - 2s 3ms/step - loss: 0.7292 - mae: 0.6618 - val_loss: 0.7467 - val_mae: 0.6610\n",
            "Epoch 104/300\n",
            "516/516 [==============================] - 1s 2ms/step - loss: 0.7236 - mae: 0.6592 - val_loss: 0.7420 - val_mae: 0.6572\n",
            "Epoch 105/300\n",
            "516/516 [==============================] - 1s 2ms/step - loss: 0.7182 - mae: 0.6557 - val_loss: 0.7373 - val_mae: 0.6541\n",
            "Epoch 106/300\n",
            "516/516 [==============================] - 1s 2ms/step - loss: 0.7130 - mae: 0.6526 - val_loss: 0.7326 - val_mae: 0.6514\n",
            "Epoch 107/300\n",
            "516/516 [==============================] - 1s 2ms/step - loss: 0.7079 - mae: 0.6500 - val_loss: 0.7284 - val_mae: 0.6482\n",
            "Epoch 108/300\n",
            "516/516 [==============================] - 1s 2ms/step - loss: 0.7030 - mae: 0.6466 - val_loss: 0.7239 - val_mae: 0.6459\n",
            "Epoch 109/300\n",
            "516/516 [==============================] - 1s 2ms/step - loss: 0.6983 - mae: 0.6437 - val_loss: 0.7197 - val_mae: 0.6433\n",
            "Epoch 110/300\n",
            "516/516 [==============================] - 1s 2ms/step - loss: 0.6936 - mae: 0.6409 - val_loss: 0.7155 - val_mae: 0.6407\n",
            "Epoch 111/300\n",
            "516/516 [==============================] - 1s 2ms/step - loss: 0.6890 - mae: 0.6389 - val_loss: 0.7117 - val_mae: 0.6378\n",
            "Epoch 112/300\n",
            "516/516 [==============================] - 1s 2ms/step - loss: 0.6846 - mae: 0.6353 - val_loss: 0.7078 - val_mae: 0.6353\n",
            "Epoch 113/300\n",
            "516/516 [==============================] - 1s 3ms/step - loss: 0.6804 - mae: 0.6329 - val_loss: 0.7040 - val_mae: 0.6330\n",
            "Epoch 114/300\n",
            "516/516 [==============================] - 2s 3ms/step - loss: 0.6763 - mae: 0.6305 - val_loss: 0.7005 - val_mae: 0.6304\n",
            "Epoch 115/300\n",
            "516/516 [==============================] - 1s 2ms/step - loss: 0.6722 - mae: 0.6284 - val_loss: 0.6974 - val_mae: 0.6274\n",
            "Epoch 116/300\n",
            "516/516 [==============================] - 1s 2ms/step - loss: 0.6684 - mae: 0.6252 - val_loss: 0.6941 - val_mae: 0.6252\n",
            "Epoch 117/300\n",
            "516/516 [==============================] - 1s 2ms/step - loss: 0.6647 - mae: 0.6228 - val_loss: 0.6909 - val_mae: 0.6229\n",
            "Epoch 118/300\n",
            "516/516 [==============================] - 1s 2ms/step - loss: 0.6610 - mae: 0.6202 - val_loss: 0.6875 - val_mae: 0.6211\n",
            "Epoch 119/300\n",
            "516/516 [==============================] - 1s 2ms/step - loss: 0.6576 - mae: 0.6186 - val_loss: 0.6849 - val_mae: 0.6185\n",
            "Epoch 120/300\n",
            "516/516 [==============================] - 1s 2ms/step - loss: 0.6543 - mae: 0.6159 - val_loss: 0.6820 - val_mae: 0.6167\n",
            "Epoch 121/300\n",
            "516/516 [==============================] - 1s 2ms/step - loss: 0.6512 - mae: 0.6142 - val_loss: 0.6797 - val_mae: 0.6142\n",
            "Epoch 122/300\n",
            "516/516 [==============================] - 1s 2ms/step - loss: 0.6482 - mae: 0.6119 - val_loss: 0.6771 - val_mae: 0.6125\n",
            "Epoch 123/300\n",
            "516/516 [==============================] - 1s 2ms/step - loss: 0.6454 - mae: 0.6100 - val_loss: 0.6748 - val_mae: 0.6105\n",
            "Epoch 124/300\n",
            "516/516 [==============================] - 1s 3ms/step - loss: 0.6426 - mae: 0.6078 - val_loss: 0.6720 - val_mae: 0.6093\n",
            "Epoch 125/300\n",
            "516/516 [==============================] - 1s 3ms/step - loss: 0.6400 - mae: 0.6064 - val_loss: 0.6700 - val_mae: 0.6073\n",
            "Epoch 126/300\n",
            "516/516 [==============================] - 1s 3ms/step - loss: 0.6376 - mae: 0.6044 - val_loss: 0.6678 - val_mae: 0.6058\n",
            "Epoch 127/300\n",
            "516/516 [==============================] - 1s 2ms/step - loss: 0.6352 - mae: 0.6031 - val_loss: 0.6661 - val_mae: 0.6039\n",
            "Epoch 128/300\n",
            "516/516 [==============================] - 1s 2ms/step - loss: 0.6329 - mae: 0.6016 - val_loss: 0.6647 - val_mae: 0.6018\n",
            "Epoch 129/300\n",
            "516/516 [==============================] - 1s 2ms/step - loss: 0.6308 - mae: 0.5997 - val_loss: 0.6630 - val_mae: 0.6002\n",
            "Epoch 130/300\n",
            "516/516 [==============================] - 1s 2ms/step - loss: 0.6287 - mae: 0.5977 - val_loss: 0.6610 - val_mae: 0.5990\n",
            "Epoch 131/300\n",
            "516/516 [==============================] - 1s 2ms/step - loss: 0.6268 - mae: 0.5965 - val_loss: 0.6592 - val_mae: 0.5978\n",
            "Epoch 132/300\n",
            "516/516 [==============================] - 1s 2ms/step - loss: 0.6249 - mae: 0.5952 - val_loss: 0.6575 - val_mae: 0.5965\n",
            "Epoch 133/300\n",
            "516/516 [==============================] - 1s 2ms/step - loss: 0.6231 - mae: 0.5943 - val_loss: 0.6566 - val_mae: 0.5947\n",
            "Epoch 134/300\n",
            "516/516 [==============================] - 1s 2ms/step - loss: 0.6214 - mae: 0.5920 - val_loss: 0.6547 - val_mae: 0.5939\n",
            "Epoch 135/300\n",
            "516/516 [==============================] - 2s 3ms/step - loss: 0.6198 - mae: 0.5916 - val_loss: 0.6534 - val_mae: 0.5926\n",
            "Epoch 136/300\n",
            "516/516 [==============================] - 1s 3ms/step - loss: 0.6183 - mae: 0.5903 - val_loss: 0.6523 - val_mae: 0.5914\n",
            "Epoch 137/300\n",
            "516/516 [==============================] - 1s 2ms/step - loss: 0.6168 - mae: 0.5894 - val_loss: 0.6517 - val_mae: 0.5898\n",
            "Epoch 138/300\n",
            "516/516 [==============================] - 1s 2ms/step - loss: 0.6155 - mae: 0.5880 - val_loss: 0.6507 - val_mae: 0.5887\n",
            "Epoch 139/300\n",
            "516/516 [==============================] - 1s 2ms/step - loss: 0.6142 - mae: 0.5871 - val_loss: 0.6496 - val_mae: 0.5878\n",
            "Epoch 140/300\n",
            "516/516 [==============================] - 1s 2ms/step - loss: 0.6130 - mae: 0.5856 - val_loss: 0.6481 - val_mae: 0.5872\n",
            "Epoch 141/300\n",
            "516/516 [==============================] - 1s 2ms/step - loss: 0.6118 - mae: 0.5851 - val_loss: 0.6472 - val_mae: 0.5862\n",
            "Epoch 142/300\n",
            "516/516 [==============================] - 1s 2ms/step - loss: 0.6107 - mae: 0.5838 - val_loss: 0.6458 - val_mae: 0.5857\n",
            "Epoch 143/300\n",
            "516/516 [==============================] - 1s 2ms/step - loss: 0.6096 - mae: 0.5833 - val_loss: 0.6449 - val_mae: 0.5849\n",
            "Epoch 144/300\n",
            "516/516 [==============================] - 1s 2ms/step - loss: 0.6086 - mae: 0.5830 - val_loss: 0.6446 - val_mae: 0.5837\n",
            "Epoch 145/300\n",
            "516/516 [==============================] - 1s 2ms/step - loss: 0.6076 - mae: 0.5818 - val_loss: 0.6437 - val_mae: 0.5829\n",
            "Epoch 146/300\n",
            "516/516 [==============================] - 2s 3ms/step - loss: 0.6067 - mae: 0.5809 - val_loss: 0.6427 - val_mae: 0.5824\n",
            "Epoch 147/300\n",
            "516/516 [==============================] - 1s 2ms/step - loss: 0.6058 - mae: 0.5803 - val_loss: 0.6419 - val_mae: 0.5817\n",
            "Epoch 148/300\n",
            "516/516 [==============================] - 1s 2ms/step - loss: 0.6050 - mae: 0.5798 - val_loss: 0.6413 - val_mae: 0.5809\n",
            "Epoch 149/300\n",
            "516/516 [==============================] - 1s 2ms/step - loss: 0.6042 - mae: 0.5791 - val_loss: 0.6405 - val_mae: 0.5804\n",
            "Epoch 150/300\n",
            "516/516 [==============================] - 1s 2ms/step - loss: 0.6034 - mae: 0.5780 - val_loss: 0.6396 - val_mae: 0.5799\n",
            "Epoch 151/300\n",
            "516/516 [==============================] - 1s 2ms/step - loss: 0.6027 - mae: 0.5779 - val_loss: 0.6389 - val_mae: 0.5793\n",
            "Epoch 152/300\n",
            "516/516 [==============================] - 1s 2ms/step - loss: 0.6019 - mae: 0.5771 - val_loss: 0.6383 - val_mae: 0.5787\n",
            "Epoch 153/300\n",
            "516/516 [==============================] - 1s 2ms/step - loss: 0.6012 - mae: 0.5766 - val_loss: 0.6373 - val_mae: 0.5785\n",
            "Epoch 154/300\n",
            "516/516 [==============================] - 1s 2ms/step - loss: 0.6006 - mae: 0.5763 - val_loss: 0.6369 - val_mae: 0.5777\n",
            "Epoch 155/300\n",
            "516/516 [==============================] - 1s 2ms/step - loss: 0.5999 - mae: 0.5752 - val_loss: 0.6360 - val_mae: 0.5775\n",
            "Epoch 156/300\n",
            "516/516 [==============================] - 1s 3ms/step - loss: 0.5993 - mae: 0.5753 - val_loss: 0.6357 - val_mae: 0.5768\n",
            "Epoch 157/300\n",
            "516/516 [==============================] - 2s 3ms/step - loss: 0.5987 - mae: 0.5747 - val_loss: 0.6354 - val_mae: 0.5762\n",
            "Epoch 158/300\n",
            "516/516 [==============================] - 1s 3ms/step - loss: 0.5981 - mae: 0.5741 - val_loss: 0.6348 - val_mae: 0.5757\n",
            "Epoch 159/300\n",
            "516/516 [==============================] - 1s 2ms/step - loss: 0.5975 - mae: 0.5737 - val_loss: 0.6339 - val_mae: 0.5755\n",
            "Epoch 160/300\n",
            "516/516 [==============================] - 1s 2ms/step - loss: 0.5969 - mae: 0.5733 - val_loss: 0.6337 - val_mae: 0.5748\n",
            "Epoch 161/300\n",
            "516/516 [==============================] - 1s 2ms/step - loss: 0.5964 - mae: 0.5728 - val_loss: 0.6332 - val_mae: 0.5745\n",
            "Epoch 162/300\n",
            "516/516 [==============================] - 1s 2ms/step - loss: 0.5959 - mae: 0.5727 - val_loss: 0.6331 - val_mae: 0.5739\n",
            "Epoch 163/300\n",
            "516/516 [==============================] - 1s 2ms/step - loss: 0.5953 - mae: 0.5720 - val_loss: 0.6324 - val_mae: 0.5736\n",
            "Epoch 164/300\n",
            "516/516 [==============================] - 1s 2ms/step - loss: 0.5948 - mae: 0.5713 - val_loss: 0.6314 - val_mae: 0.5736\n",
            "Epoch 165/300\n",
            "516/516 [==============================] - 1s 2ms/step - loss: 0.5944 - mae: 0.5713 - val_loss: 0.6310 - val_mae: 0.5731\n",
            "Epoch 166/300\n",
            "516/516 [==============================] - 2s 3ms/step - loss: 0.5939 - mae: 0.5713 - val_loss: 0.6309 - val_mae: 0.5725\n",
            "Epoch 167/300\n",
            "516/516 [==============================] - 2s 3ms/step - loss: 0.5934 - mae: 0.5708 - val_loss: 0.6308 - val_mae: 0.5720\n",
            "Epoch 168/300\n",
            "516/516 [==============================] - 1s 2ms/step - loss: 0.5929 - mae: 0.5703 - val_loss: 0.6305 - val_mae: 0.5716\n",
            "Epoch 169/300\n",
            "516/516 [==============================] - 1s 2ms/step - loss: 0.5925 - mae: 0.5696 - val_loss: 0.6295 - val_mae: 0.5716\n",
            "Epoch 170/300\n",
            "516/516 [==============================] - 1s 2ms/step - loss: 0.5921 - mae: 0.5695 - val_loss: 0.6292 - val_mae: 0.5712\n",
            "Epoch 171/300\n",
            "516/516 [==============================] - 1s 2ms/step - loss: 0.5916 - mae: 0.5689 - val_loss: 0.6281 - val_mae: 0.5713\n",
            "Epoch 172/300\n",
            "516/516 [==============================] - 1s 2ms/step - loss: 0.5912 - mae: 0.5694 - val_loss: 0.6281 - val_mae: 0.5707\n",
            "Epoch 173/300\n",
            "516/516 [==============================] - 1s 2ms/step - loss: 0.5907 - mae: 0.5687 - val_loss: 0.6279 - val_mae: 0.5703\n",
            "Epoch 174/300\n",
            "516/516 [==============================] - 1s 2ms/step - loss: 0.5903 - mae: 0.5682 - val_loss: 0.6272 - val_mae: 0.5701\n",
            "Epoch 175/300\n",
            "516/516 [==============================] - 1s 2ms/step - loss: 0.5899 - mae: 0.5674 - val_loss: 0.6263 - val_mae: 0.5702\n",
            "Epoch 176/300\n",
            "516/516 [==============================] - 1s 3ms/step - loss: 0.5895 - mae: 0.5684 - val_loss: 0.6266 - val_mae: 0.5694\n",
            "Epoch 177/300\n",
            "516/516 [==============================] - 2s 3ms/step - loss: 0.5891 - mae: 0.5669 - val_loss: 0.6255 - val_mae: 0.5695\n",
            "Epoch 178/300\n",
            "516/516 [==============================] - 1s 3ms/step - loss: 0.5888 - mae: 0.5673 - val_loss: 0.6253 - val_mae: 0.5691\n",
            "Epoch 179/300\n",
            "516/516 [==============================] - 1s 2ms/step - loss: 0.5884 - mae: 0.5671 - val_loss: 0.6250 - val_mae: 0.5688\n",
            "Epoch 180/300\n",
            "516/516 [==============================] - 1s 2ms/step - loss: 0.5880 - mae: 0.5662 - val_loss: 0.6239 - val_mae: 0.5690\n",
            "Epoch 181/300\n",
            "516/516 [==============================] - 1s 2ms/step - loss: 0.5877 - mae: 0.5670 - val_loss: 0.6241 - val_mae: 0.5683\n",
            "Epoch 182/300\n",
            "516/516 [==============================] - 1s 2ms/step - loss: 0.5874 - mae: 0.5667 - val_loss: 0.6242 - val_mae: 0.5677\n",
            "Epoch 183/300\n",
            "516/516 [==============================] - 1s 2ms/step - loss: 0.5870 - mae: 0.5658 - val_loss: 0.6236 - val_mae: 0.5676\n",
            "Epoch 184/300\n",
            "516/516 [==============================] - 1s 2ms/step - loss: 0.5867 - mae: 0.5653 - val_loss: 0.6229 - val_mae: 0.5676\n",
            "Epoch 185/300\n",
            "516/516 [==============================] - 1s 2ms/step - loss: 0.5864 - mae: 0.5659 - val_loss: 0.6227 - val_mae: 0.5672\n",
            "Epoch 186/300\n",
            "516/516 [==============================] - 1s 2ms/step - loss: 0.5861 - mae: 0.5649 - val_loss: 0.6218 - val_mae: 0.5673\n",
            "Epoch 187/300\n",
            "516/516 [==============================] - 2s 3ms/step - loss: 0.5858 - mae: 0.5653 - val_loss: 0.6218 - val_mae: 0.5668\n",
            "Epoch 188/300\n",
            "516/516 [==============================] - 1s 3ms/step - loss: 0.5855 - mae: 0.5645 - val_loss: 0.6212 - val_mae: 0.5668\n",
            "Epoch 189/300\n",
            "516/516 [==============================] - 1s 2ms/step - loss: 0.5851 - mae: 0.5651 - val_loss: 0.6211 - val_mae: 0.5664\n",
            "Epoch 190/300\n",
            "516/516 [==============================] - 1s 2ms/step - loss: 0.5849 - mae: 0.5643 - val_loss: 0.6205 - val_mae: 0.5663\n",
            "Epoch 191/300\n",
            "516/516 [==============================] - 1s 2ms/step - loss: 0.5846 - mae: 0.5643 - val_loss: 0.6199 - val_mae: 0.5663\n",
            "Epoch 192/300\n",
            "516/516 [==============================] - 1s 2ms/step - loss: 0.5843 - mae: 0.5641 - val_loss: 0.6196 - val_mae: 0.5660\n",
            "Epoch 193/300\n",
            "516/516 [==============================] - 1s 2ms/step - loss: 0.5840 - mae: 0.5641 - val_loss: 0.6195 - val_mae: 0.5656\n",
            "Epoch 194/300\n",
            "516/516 [==============================] - 1s 2ms/step - loss: 0.5837 - mae: 0.5637 - val_loss: 0.6193 - val_mae: 0.5654\n",
            "Epoch 195/300\n",
            "516/516 [==============================] - 1s 2ms/step - loss: 0.5834 - mae: 0.5637 - val_loss: 0.6190 - val_mae: 0.5650\n",
            "Epoch 196/300\n",
            "516/516 [==============================] - 1s 2ms/step - loss: 0.5831 - mae: 0.5626 - val_loss: 0.6181 - val_mae: 0.5653\n",
            "Epoch 197/300\n",
            "516/516 [==============================] - 1s 2ms/step - loss: 0.5828 - mae: 0.5634 - val_loss: 0.6176 - val_mae: 0.5651\n",
            "Epoch 198/300\n",
            "516/516 [==============================] - 2s 3ms/step - loss: 0.5825 - mae: 0.5627 - val_loss: 0.6173 - val_mae: 0.5649\n",
            "Epoch 199/300\n",
            "516/516 [==============================] - 2s 3ms/step - loss: 0.5822 - mae: 0.5631 - val_loss: 0.6169 - val_mae: 0.5647\n",
            "Epoch 200/300\n",
            "516/516 [==============================] - 1s 2ms/step - loss: 0.5820 - mae: 0.5631 - val_loss: 0.6172 - val_mae: 0.5641\n",
            "Epoch 201/300\n",
            "516/516 [==============================] - 1s 2ms/step - loss: 0.5817 - mae: 0.5624 - val_loss: 0.6168 - val_mae: 0.5640\n",
            "Epoch 202/300\n",
            "516/516 [==============================] - 1s 2ms/step - loss: 0.5814 - mae: 0.5623 - val_loss: 0.6166 - val_mae: 0.5636\n",
            "Epoch 203/300\n",
            "516/516 [==============================] - 1s 2ms/step - loss: 0.5812 - mae: 0.5619 - val_loss: 0.6162 - val_mae: 0.5635\n",
            "Epoch 204/300\n",
            "516/516 [==============================] - 1s 2ms/step - loss: 0.5809 - mae: 0.5620 - val_loss: 0.6156 - val_mae: 0.5634\n",
            "Epoch 205/300\n",
            "516/516 [==============================] - 1s 2ms/step - loss: 0.5806 - mae: 0.5614 - val_loss: 0.6149 - val_mae: 0.5636\n",
            "Epoch 206/300\n",
            "516/516 [==============================] - 1s 2ms/step - loss: 0.5803 - mae: 0.5618 - val_loss: 0.6149 - val_mae: 0.5631\n",
            "Epoch 207/300\n",
            "516/516 [==============================] - 1s 3ms/step - loss: 0.5801 - mae: 0.5613 - val_loss: 0.6143 - val_mae: 0.5631\n",
            "Epoch 208/300\n",
            "516/516 [==============================] - 2s 3ms/step - loss: 0.5798 - mae: 0.5614 - val_loss: 0.6141 - val_mae: 0.5628\n",
            "Epoch 209/300\n",
            "516/516 [==============================] - 2s 3ms/step - loss: 0.5795 - mae: 0.5615 - val_loss: 0.6142 - val_mae: 0.5624\n",
            "Epoch 210/300\n",
            "516/516 [==============================] - 1s 2ms/step - loss: 0.5792 - mae: 0.5610 - val_loss: 0.6140 - val_mae: 0.5621\n",
            "Epoch 211/300\n",
            "516/516 [==============================] - 1s 2ms/step - loss: 0.5790 - mae: 0.5604 - val_loss: 0.6130 - val_mae: 0.5623\n",
            "Epoch 212/300\n",
            "516/516 [==============================] - 1s 2ms/step - loss: 0.5787 - mae: 0.5606 - val_loss: 0.6129 - val_mae: 0.5620\n",
            "Epoch 213/300\n",
            "516/516 [==============================] - 1s 2ms/step - loss: 0.5784 - mae: 0.5604 - val_loss: 0.6120 - val_mae: 0.5622\n",
            "Epoch 214/300\n",
            "516/516 [==============================] - 1s 2ms/step - loss: 0.5782 - mae: 0.5603 - val_loss: 0.6119 - val_mae: 0.5619\n",
            "Epoch 215/300\n",
            "516/516 [==============================] - 1s 2ms/step - loss: 0.5779 - mae: 0.5605 - val_loss: 0.6117 - val_mae: 0.5616\n",
            "Epoch 216/300\n",
            "516/516 [==============================] - 1s 2ms/step - loss: 0.5777 - mae: 0.5599 - val_loss: 0.6114 - val_mae: 0.5614\n",
            "Epoch 217/300\n",
            "516/516 [==============================] - 1s 2ms/step - loss: 0.5774 - mae: 0.5600 - val_loss: 0.6112 - val_mae: 0.5612\n",
            "Epoch 218/300\n",
            "516/516 [==============================] - 1s 3ms/step - loss: 0.5772 - mae: 0.5593 - val_loss: 0.6107 - val_mae: 0.5611\n",
            "Epoch 219/300\n",
            "516/516 [==============================] - 2s 3ms/step - loss: 0.5769 - mae: 0.5600 - val_loss: 0.6105 - val_mae: 0.5609\n",
            "Epoch 220/300\n",
            "516/516 [==============================] - 1s 3ms/step - loss: 0.5767 - mae: 0.5593 - val_loss: 0.6101 - val_mae: 0.5607\n",
            "Epoch 221/300\n",
            "516/516 [==============================] - 1s 2ms/step - loss: 0.5764 - mae: 0.5593 - val_loss: 0.6096 - val_mae: 0.5607\n",
            "Epoch 222/300\n",
            "516/516 [==============================] - 1s 2ms/step - loss: 0.5761 - mae: 0.5595 - val_loss: 0.6098 - val_mae: 0.5602\n",
            "Epoch 223/300\n",
            "516/516 [==============================] - 1s 2ms/step - loss: 0.5759 - mae: 0.5589 - val_loss: 0.6094 - val_mae: 0.5601\n",
            "Epoch 224/300\n",
            "516/516 [==============================] - 1s 2ms/step - loss: 0.5757 - mae: 0.5588 - val_loss: 0.6087 - val_mae: 0.5602\n",
            "Epoch 225/300\n",
            "516/516 [==============================] - 1s 2ms/step - loss: 0.5754 - mae: 0.5584 - val_loss: 0.6083 - val_mae: 0.5600\n",
            "Epoch 226/300\n",
            "516/516 [==============================] - 1s 2ms/step - loss: 0.5752 - mae: 0.5587 - val_loss: 0.6079 - val_mae: 0.5600\n",
            "Epoch 227/300\n",
            "516/516 [==============================] - 1s 2ms/step - loss: 0.5749 - mae: 0.5588 - val_loss: 0.6080 - val_mae: 0.5595\n",
            "Epoch 228/300\n",
            "516/516 [==============================] - 1s 2ms/step - loss: 0.5746 - mae: 0.5575 - val_loss: 0.6067 - val_mae: 0.5601\n",
            "Epoch 229/300\n",
            "516/516 [==============================] - 2s 3ms/step - loss: 0.5745 - mae: 0.5586 - val_loss: 0.6069 - val_mae: 0.5595\n",
            "Epoch 230/300\n",
            "516/516 [==============================] - 2s 3ms/step - loss: 0.5741 - mae: 0.5585 - val_loss: 0.6073 - val_mae: 0.5588\n",
            "Epoch 231/300\n",
            "516/516 [==============================] - 1s 2ms/step - loss: 0.5739 - mae: 0.5575 - val_loss: 0.6066 - val_mae: 0.5589\n",
            "Epoch 232/300\n",
            "516/516 [==============================] - 1s 2ms/step - loss: 0.5737 - mae: 0.5578 - val_loss: 0.6063 - val_mae: 0.5587\n",
            "Epoch 233/300\n",
            "516/516 [==============================] - 1s 2ms/step - loss: 0.5734 - mae: 0.5576 - val_loss: 0.6061 - val_mae: 0.5585\n",
            "Epoch 234/300\n",
            "516/516 [==============================] - 1s 2ms/step - loss: 0.5732 - mae: 0.5574 - val_loss: 0.6057 - val_mae: 0.5584\n",
            "Epoch 235/300\n",
            "516/516 [==============================] - 1s 2ms/step - loss: 0.5729 - mae: 0.5575 - val_loss: 0.6055 - val_mae: 0.5581\n",
            "Epoch 236/300\n",
            "516/516 [==============================] - 1s 3ms/step - loss: 0.5727 - mae: 0.5571 - val_loss: 0.6053 - val_mae: 0.5579\n",
            "Epoch 237/300\n",
            "516/516 [==============================] - 2s 3ms/step - loss: 0.5724 - mae: 0.5563 - val_loss: 0.6040 - val_mae: 0.5585\n",
            "Epoch 238/300\n",
            "516/516 [==============================] - 2s 3ms/step - loss: 0.5722 - mae: 0.5573 - val_loss: 0.6042 - val_mae: 0.5579\n",
            "Epoch 239/300\n",
            "516/516 [==============================] - 2s 3ms/step - loss: 0.5720 - mae: 0.5565 - val_loss: 0.6037 - val_mae: 0.5580\n",
            "Epoch 240/300\n",
            "516/516 [==============================] - 2s 3ms/step - loss: 0.5717 - mae: 0.5570 - val_loss: 0.6037 - val_mae: 0.5576\n",
            "Epoch 241/300\n",
            "516/516 [==============================] - 1s 2ms/step - loss: 0.5715 - mae: 0.5565 - val_loss: 0.6035 - val_mae: 0.5573\n",
            "Epoch 242/300\n",
            "516/516 [==============================] - 1s 2ms/step - loss: 0.5712 - mae: 0.5564 - val_loss: 0.6035 - val_mae: 0.5569\n",
            "Epoch 243/300\n",
            "516/516 [==============================] - 1s 2ms/step - loss: 0.5710 - mae: 0.5557 - val_loss: 0.6026 - val_mae: 0.5572\n",
            "Epoch 244/300\n",
            "516/516 [==============================] - 1s 2ms/step - loss: 0.5708 - mae: 0.5559 - val_loss: 0.6021 - val_mae: 0.5572\n",
            "Epoch 245/300\n",
            "516/516 [==============================] - 1s 2ms/step - loss: 0.5705 - mae: 0.5558 - val_loss: 0.6017 - val_mae: 0.5571\n",
            "Epoch 246/300\n",
            "516/516 [==============================] - 1s 2ms/step - loss: 0.5703 - mae: 0.5561 - val_loss: 0.6017 - val_mae: 0.5567\n",
            "Epoch 247/300\n",
            "516/516 [==============================] - 1s 2ms/step - loss: 0.5701 - mae: 0.5555 - val_loss: 0.6014 - val_mae: 0.5565\n",
            "Epoch 248/300\n",
            "516/516 [==============================] - 1s 2ms/step - loss: 0.5698 - mae: 0.5553 - val_loss: 0.6007 - val_mae: 0.5567\n",
            "Epoch 249/300\n",
            "516/516 [==============================] - 2s 3ms/step - loss: 0.5696 - mae: 0.5551 - val_loss: 0.6004 - val_mae: 0.5566\n",
            "Epoch 250/300\n",
            "516/516 [==============================] - 2s 3ms/step - loss: 0.5694 - mae: 0.5555 - val_loss: 0.6006 - val_mae: 0.5560\n",
            "Epoch 251/300\n",
            "516/516 [==============================] - 1s 2ms/step - loss: 0.5691 - mae: 0.5550 - val_loss: 0.6002 - val_mae: 0.5559\n",
            "Epoch 252/300\n",
            "516/516 [==============================] - 1s 2ms/step - loss: 0.5689 - mae: 0.5552 - val_loss: 0.6001 - val_mae: 0.5556\n",
            "Epoch 253/300\n",
            "516/516 [==============================] - 1s 2ms/step - loss: 0.5687 - mae: 0.5549 - val_loss: 0.5997 - val_mae: 0.5555\n",
            "Epoch 254/300\n",
            "516/516 [==============================] - 1s 3ms/step - loss: 0.5684 - mae: 0.5545 - val_loss: 0.5993 - val_mae: 0.5555\n",
            "Epoch 255/300\n",
            "516/516 [==============================] - 1s 2ms/step - loss: 0.5682 - mae: 0.5547 - val_loss: 0.5993 - val_mae: 0.5551\n",
            "Epoch 256/300\n",
            "516/516 [==============================] - 1s 2ms/step - loss: 0.5680 - mae: 0.5540 - val_loss: 0.5985 - val_mae: 0.5553\n",
            "Epoch 257/300\n",
            "516/516 [==============================] - 1s 2ms/step - loss: 0.5678 - mae: 0.5544 - val_loss: 0.5984 - val_mae: 0.5550\n",
            "Epoch 258/300\n",
            "516/516 [==============================] - 1s 2ms/step - loss: 0.5675 - mae: 0.5541 - val_loss: 0.5982 - val_mae: 0.5547\n",
            "Epoch 259/300\n",
            "516/516 [==============================] - 1s 2ms/step - loss: 0.5673 - mae: 0.5540 - val_loss: 0.5978 - val_mae: 0.5547\n",
            "Epoch 260/300\n",
            "516/516 [==============================] - 2s 3ms/step - loss: 0.5671 - mae: 0.5539 - val_loss: 0.5976 - val_mae: 0.5545\n",
            "Epoch 261/300\n",
            "516/516 [==============================] - 1s 3ms/step - loss: 0.5668 - mae: 0.5534 - val_loss: 0.5968 - val_mae: 0.5547\n",
            "Epoch 262/300\n",
            "516/516 [==============================] - 1s 2ms/step - loss: 0.5666 - mae: 0.5534 - val_loss: 0.5965 - val_mae: 0.5546\n",
            "Epoch 263/300\n",
            "516/516 [==============================] - 1s 2ms/step - loss: 0.5664 - mae: 0.5538 - val_loss: 0.5963 - val_mae: 0.5543\n",
            "Epoch 264/300\n",
            "516/516 [==============================] - 1s 2ms/step - loss: 0.5662 - mae: 0.5534 - val_loss: 0.5961 - val_mae: 0.5541\n",
            "Epoch 265/300\n",
            "516/516 [==============================] - 1s 2ms/step - loss: 0.5659 - mae: 0.5533 - val_loss: 0.5959 - val_mae: 0.5539\n",
            "Epoch 266/300\n",
            "516/516 [==============================] - 1s 2ms/step - loss: 0.5657 - mae: 0.5530 - val_loss: 0.5957 - val_mae: 0.5537\n",
            "Epoch 267/300\n",
            "516/516 [==============================] - 1s 2ms/step - loss: 0.5655 - mae: 0.5532 - val_loss: 0.5955 - val_mae: 0.5534\n",
            "Epoch 268/300\n",
            "516/516 [==============================] - 1s 2ms/step - loss: 0.5653 - mae: 0.5528 - val_loss: 0.5953 - val_mae: 0.5532\n",
            "Epoch 269/300\n",
            "516/516 [==============================] - 1s 2ms/step - loss: 0.5651 - mae: 0.5528 - val_loss: 0.5948 - val_mae: 0.5532\n",
            "Epoch 270/300\n",
            "516/516 [==============================] - 2s 3ms/step - loss: 0.5648 - mae: 0.5523 - val_loss: 0.5945 - val_mae: 0.5531\n",
            "Epoch 271/300\n",
            "516/516 [==============================] - 2s 3ms/step - loss: 0.5646 - mae: 0.5520 - val_loss: 0.5937 - val_mae: 0.5533\n",
            "Epoch 272/300\n",
            "516/516 [==============================] - 1s 2ms/step - loss: 0.5644 - mae: 0.5525 - val_loss: 0.5938 - val_mae: 0.5529\n",
            "Epoch 273/300\n",
            "516/516 [==============================] - 1s 2ms/step - loss: 0.5642 - mae: 0.5523 - val_loss: 0.5935 - val_mae: 0.5527\n",
            "Epoch 274/300\n",
            "516/516 [==============================] - 1s 2ms/step - loss: 0.5639 - mae: 0.5521 - val_loss: 0.5933 - val_mae: 0.5525\n",
            "Epoch 275/300\n",
            "516/516 [==============================] - 1s 2ms/step - loss: 0.5637 - mae: 0.5516 - val_loss: 0.5928 - val_mae: 0.5525\n",
            "Epoch 276/300\n",
            "516/516 [==============================] - 1s 2ms/step - loss: 0.5635 - mae: 0.5518 - val_loss: 0.5926 - val_mae: 0.5523\n",
            "Epoch 277/300\n",
            "516/516 [==============================] - 1s 2ms/step - loss: 0.5633 - mae: 0.5519 - val_loss: 0.5926 - val_mae: 0.5519\n",
            "Epoch 278/300\n",
            "516/516 [==============================] - 1s 2ms/step - loss: 0.5631 - mae: 0.5513 - val_loss: 0.5921 - val_mae: 0.5519\n",
            "Epoch 279/300\n",
            "516/516 [==============================] - 1s 2ms/step - loss: 0.5628 - mae: 0.5516 - val_loss: 0.5919 - val_mae: 0.5517\n",
            "Epoch 280/300\n",
            "516/516 [==============================] - 1s 3ms/step - loss: 0.5626 - mae: 0.5512 - val_loss: 0.5915 - val_mae: 0.5516\n",
            "Epoch 281/300\n",
            "516/516 [==============================] - 2s 3ms/step - loss: 0.5624 - mae: 0.5512 - val_loss: 0.5911 - val_mae: 0.5516\n",
            "Epoch 282/300\n",
            "516/516 [==============================] - 1s 3ms/step - loss: 0.5622 - mae: 0.5505 - val_loss: 0.5905 - val_mae: 0.5517\n",
            "Epoch 283/300\n",
            "516/516 [==============================] - 1s 2ms/step - loss: 0.5620 - mae: 0.5512 - val_loss: 0.5908 - val_mae: 0.5510\n",
            "Epoch 284/300\n",
            "516/516 [==============================] - 1s 2ms/step - loss: 0.5618 - mae: 0.5508 - val_loss: 0.5902 - val_mae: 0.5511\n",
            "Epoch 285/300\n",
            "516/516 [==============================] - 1s 2ms/step - loss: 0.5615 - mae: 0.5501 - val_loss: 0.5894 - val_mae: 0.5515\n",
            "Epoch 286/300\n",
            "516/516 [==============================] - 1s 2ms/step - loss: 0.5613 - mae: 0.5508 - val_loss: 0.5895 - val_mae: 0.5510\n",
            "Epoch 287/300\n",
            "516/516 [==============================] - 1s 2ms/step - loss: 0.5611 - mae: 0.5503 - val_loss: 0.5892 - val_mae: 0.5508\n",
            "Epoch 288/300\n",
            "516/516 [==============================] - 1s 2ms/step - loss: 0.5609 - mae: 0.5509 - val_loss: 0.5894 - val_mae: 0.5502\n",
            "Epoch 289/300\n",
            "516/516 [==============================] - 1s 2ms/step - loss: 0.5607 - mae: 0.5502 - val_loss: 0.5896 - val_mae: 0.5498\n",
            "Epoch 290/300\n",
            "516/516 [==============================] - 1s 2ms/step - loss: 0.5605 - mae: 0.5497 - val_loss: 0.5887 - val_mae: 0.5501\n",
            "Epoch 291/300\n",
            "516/516 [==============================] - 2s 3ms/step - loss: 0.5603 - mae: 0.5500 - val_loss: 0.5886 - val_mae: 0.5498\n",
            "Epoch 292/300\n",
            "516/516 [==============================] - 2s 3ms/step - loss: 0.5600 - mae: 0.5497 - val_loss: 0.5882 - val_mae: 0.5497\n",
            "Epoch 293/300\n",
            "516/516 [==============================] - 1s 2ms/step - loss: 0.5598 - mae: 0.5497 - val_loss: 0.5879 - val_mae: 0.5496\n",
            "Epoch 294/300\n",
            "516/516 [==============================] - 1s 2ms/step - loss: 0.5596 - mae: 0.5498 - val_loss: 0.5881 - val_mae: 0.5491\n",
            "Epoch 295/300\n",
            "516/516 [==============================] - 1s 2ms/step - loss: 0.5594 - mae: 0.5493 - val_loss: 0.5875 - val_mae: 0.5492\n",
            "Epoch 296/300\n",
            "516/516 [==============================] - 1s 2ms/step - loss: 0.5592 - mae: 0.5493 - val_loss: 0.5874 - val_mae: 0.5489\n",
            "Epoch 297/300\n",
            "516/516 [==============================] - 1s 2ms/step - loss: 0.5590 - mae: 0.5486 - val_loss: 0.5864 - val_mae: 0.5494\n",
            "Epoch 298/300\n",
            "516/516 [==============================] - 1s 3ms/step - loss: 0.5588 - mae: 0.5492 - val_loss: 0.5863 - val_mae: 0.5491\n",
            "Epoch 299/300\n",
            "516/516 [==============================] - 1s 3ms/step - loss: 0.5586 - mae: 0.5492 - val_loss: 0.5864 - val_mae: 0.5486\n",
            "Epoch 300/300\n",
            "516/516 [==============================] - 1s 2ms/step - loss: 0.5584 - mae: 0.5487 - val_loss: 0.5859 - val_mae: 0.5486\n",
            "CPU times: user 5min 56s, sys: 19.9 s, total: 6min 16s\n",
            "Wall time: 6min 22s\n"
          ]
        },
        {
          "output_type": "execute_result",
          "data": {
            "text/plain": [
              "<keras.callbacks.History at 0x7fd242dc7be0>"
            ]
          },
          "metadata": {},
          "execution_count": 18
        }
      ]
    },
    {
      "cell_type": "markdown",
      "source": [
        "## 1.5. Сделайте вывод, хорошо ли модель обучается?\n",
        "Если модель обучается плохо, можете внести изменения в работу."
      ],
      "metadata": {
        "id": "r9MPM5aWnGOv"
      }
    },
    {
      "cell_type": "code",
      "source": [],
      "metadata": {
        "id": "3V3NH5a4nJx_"
      },
      "execution_count": null,
      "outputs": []
    },
    {
      "cell_type": "markdown",
      "source": [
        "## 1.6. Сделайте предсказания на тестовых данных"
      ],
      "metadata": {
        "id": "2xSp7aVCpeHI"
      }
    },
    {
      "cell_type": "code",
      "source": [
        "print(model.predict(X_norm_test))"
      ],
      "metadata": {
        "colab": {
          "base_uri": "https://localhost:8080/"
        },
        "id": "92jgzYDopgE6",
        "outputId": "d346d6f5-0f96-4814-c851-4f7ce7387a69"
      },
      "execution_count": 19,
      "outputs": [
        {
          "output_type": "stream",
          "name": "stdout",
          "text": [
            "129/129 [==============================] - 0s 1ms/step\n",
            "[[2.1571078]\n",
            " [2.9752314]\n",
            " [2.0195217]\n",
            " ...\n",
            " [1.0241958]\n",
            " [2.7547464]\n",
            " [2.260645 ]]\n"
          ]
        }
      ]
    },
    {
      "cell_type": "markdown",
      "source": [
        "## 1.7. Посчитайте метрику качества на тестовых данных"
      ],
      "metadata": {
        "id": "vL1BPX6vpjCN"
      }
    },
    {
      "cell_type": "code",
      "source": [
        "mse_nn, mae_nn = model.evaluate(X_norm_test, y_test)\n",
        "\n",
        "print('Mean squared error on test data: ', mse_nn)\n",
        "print('Mean absolute error on test data: ', mae_nn)"
      ],
      "metadata": {
        "colab": {
          "base_uri": "https://localhost:8080/"
        },
        "id": "7fH_QjR2pk3X",
        "outputId": "83f1623b-8a74-4a19-872f-08de10487bd2"
      },
      "execution_count": 20,
      "outputs": [
        {
          "output_type": "stream",
          "name": "stdout",
          "text": [
            "129/129 [==============================] - 0s 1ms/step - loss: 0.5859 - mae: 0.5486\n",
            "Mean squared error on test data:  0.5859202742576599\n",
            "Mean absolute error on test data:  0.5485935211181641\n"
          ]
        }
      ]
    },
    {
      "cell_type": "markdown",
      "metadata": {
        "id": "4BtottpoEH0k"
      },
      "source": [
        "# Здание 2"
      ]
    },
    {
      "cell_type": "code",
      "execution_count": null,
      "metadata": {
        "id": "X1qKui_PO0mr"
      },
      "outputs": [],
      "source": [
        "# импортируем бэкенд Agg из matplotlib для сохранения графиков на диск\n",
        "import matplotlib\n",
        "matplotlib.use(\"Agg\")"
      ]
    },
    {
      "cell_type": "code",
      "execution_count": null,
      "metadata": {
        "id": "sh6kN7IMO8de"
      },
      "outputs": [],
      "source": [
        "# Подключаем необходимые модули и пакеты\n",
        "from sklearn.preprocessing import LabelBinarizer\n",
        "from sklearn.model_selection import train_test_split\n",
        "from sklearn.metrics import classification_report\n",
        "from keras.models import Sequential\n",
        "from keras.layers.core import Dense\n",
        "from keras.optimizers import SGD\n",
        "from imutils import paths\n",
        "import matplotlib.pyplot as plt\n",
        "import numpy as np\n",
        "import random\n",
        "import pickle\n",
        "import cv2\n",
        "from google.colab.patches import cv2_imshow\n",
        "import os"
      ]
    },
    {
      "cell_type": "code",
      "execution_count": null,
      "metadata": {
        "colab": {
          "base_uri": "https://localhost:8080/"
        },
        "id": "ZUzJvfIiP6qe",
        "outputId": "80b369a8-b3c9-4f80-9ed4-c11282b9231a"
      },
      "outputs": [
        {
          "name": "stdout",
          "output_type": "stream",
          "text": [
            "[INFO] loading images...\n"
          ]
        }
      ],
      "source": [
        "# инициализируем данные и метки\n",
        "print(\"[INFO] loading images...\")\n",
        "data = []\n",
        "labels = []"
      ]
    },
    {
      "cell_type": "code",
      "execution_count": null,
      "metadata": {
        "id": "WykiH3MpQBHJ"
      },
      "outputs": [],
      "source": [
        "# Собираем список путей к каждому изображению и перемешиваем их\n",
        "imagePaths = sorted(list(paths.list_images(\"/content/drive/MyDrive/Github/Dataset\")))\n",
        "\n",
        "random.shuffle(imagePaths)"
      ]
    },
    {
      "cell_type": "code",
      "execution_count": null,
      "metadata": {
        "colab": {
          "base_uri": "https://localhost:8080/"
        },
        "id": "-VKKpFFnQGhS",
        "outputId": "a92d5ec1-ba24-4309-9ec2-b70edc738f53"
      },
      "outputs": [
        {
          "name": "stderr",
          "output_type": "stream",
          "text": [
            "100%|██████████| 10000/10000 [31:38<00:00,  5.27it/s]\n"
          ]
        }
      ],
      "source": [
        "# цикл по изображениям\n",
        "from tqdm import tqdm\n",
        "for imagePath in tqdm(imagePaths):\n",
        "\t\n",
        "\timage = cv2.imread(imagePath) # загружаем изображение\n",
        "\timage = cv2.resize(image, (32, 32)).flatten() # меняем его разрешение на 32x32 пикселей (без учета соотношения сторон),\n",
        "\t\t\t\t\t\t\t\t\t\t\t\t\t\t\t\t\t\t\t\t\t\t\t\t# сглаживаем его в 32x32x3=3072 пикселей\n",
        "\tdata.append(image) # добавляем в список\n",
        "\n",
        "\tlabel = imagePath.split(os.path.sep)[-2] \t# извлекаем метку класса из пути к изображению (метка класса зависит от имени папки)\n",
        "\tlabels.append(label) # обновляем список меток"
      ]
    },
    {
      "cell_type": "code",
      "execution_count": null,
      "metadata": {
        "id": "o7cHnuvIQGnn"
      },
      "outputs": [],
      "source": [
        "# масштабируем интенсивности пикселей в диапазон [0, 1] (Нормализация данных)\n",
        "data = np.array(data, dtype=\"float\") / 255.0\n",
        "labels = np.array(labels)"
      ]
    },
    {
      "cell_type": "code",
      "execution_count": null,
      "metadata": {
        "id": "CdmySxyzQGsa"
      },
      "outputs": [],
      "source": [
        "# разбиваем данные на обучающую и тестовую выборки, используя 75%\n",
        "# данных для обучения и оставшиеся 25% для тестирования\n",
        "(trainX, testX, trainY, testY) = train_test_split(data,\n",
        "\tlabels, test_size=0.25, random_state=42)"
      ]
    },
    {
      "cell_type": "code",
      "execution_count": null,
      "metadata": {
        "id": "DHDEnBT4QGxX"
      },
      "outputs": [],
      "source": [
        "# конвертируем метки из целых чисел в векторы (для 2х классов при\n",
        "# бинарной классификации вам следует использовать функцию Keras\n",
        "# \"to_categorical\" вместо \"LabelBinarizer\" из scikit-learn, которая не возвращает вектор)\n",
        "lb = LabelBinarizer()\n",
        "trainY = lb.fit_transform(trainY)\n",
        "testY = lb.transform(testY)"
      ]
    },
    {
      "cell_type": "code",
      "execution_count": null,
      "metadata": {
        "id": "ysxmAM6cQG06"
      },
      "outputs": [],
      "source": [
        "# определим архитектуру 3072-1024-512-3 с помощью Keras\n",
        "model = Sequential()\n",
        "model.add(Dense(1024, input_shape=(3072,), activation=\"relu\"))\n",
        "model.add(Dense(512, activation=\"relu\"))\n",
        "model.add(Dense(len(lb.classes_), activation=\"softmax\"))"
      ]
    },
    {
      "cell_type": "code",
      "execution_count": null,
      "metadata": {
        "id": "RC7U1mwKQUiE"
      },
      "outputs": [],
      "source": [
        "# инициализируем скорость обучения и общее число эпох\n",
        "INIT_LR = 0.01\n",
        "EPOCHS = 80"
      ]
    },
    {
      "cell_type": "code",
      "execution_count": null,
      "metadata": {
        "colab": {
          "base_uri": "https://localhost:8080/"
        },
        "id": "_YwlutjiQXMv",
        "outputId": "88afc636-b1a0-4dce-d617-a492321a76a8"
      },
      "outputs": [
        {
          "name": "stdout",
          "output_type": "stream",
          "text": [
            "[INFO] training network...\n"
          ]
        },
        {
          "name": "stderr",
          "output_type": "stream",
          "text": [
            "/usr/local/lib/python3.8/dist-packages/keras/optimizers/optimizer_v2/gradient_descent.py:114: UserWarning: The `lr` argument is deprecated, use `learning_rate` instead.\n",
            "  super().__init__(name, **kwargs)\n"
          ]
        }
      ],
      "source": [
        "# компилируем модель, используя SGD как оптимизатор и категориальную\n",
        "# кросс-энтропию в качестве функции потерь (для бинарной классификации\n",
        "# следует использовать binary_crossentropy)\n",
        "print(\"[INFO] training network...\")\n",
        "opt = SGD(lr=INIT_LR)\n",
        "model.compile(loss=\"categorical_crossentropy\", optimizer=opt,\n",
        "\tmetrics=[\"accuracy\"])"
      ]
    },
    {
      "cell_type": "code",
      "execution_count": null,
      "metadata": {
        "colab": {
          "base_uri": "https://localhost:8080/"
        },
        "id": "soa-Mzd0QXbm",
        "outputId": "ef62ccc3-f686-4379-b0cb-62486e3ce83a"
      },
      "outputs": [
        {
          "name": "stdout",
          "output_type": "stream",
          "text": [
            "Epoch 1/80\n",
            "8/8 [==============================] - 3s 346ms/step - loss: 1.5681 - accuracy: 0.2748 - val_loss: 1.4872 - val_accuracy: 0.3640\n",
            "Epoch 2/80\n",
            "8/8 [==============================] - 3s 317ms/step - loss: 1.4627 - accuracy: 0.3927 - val_loss: 1.4211 - val_accuracy: 0.4228\n",
            "Epoch 3/80\n",
            "8/8 [==============================] - 2s 239ms/step - loss: 1.4010 - accuracy: 0.4431 - val_loss: 1.3746 - val_accuracy: 0.4680\n",
            "Epoch 4/80\n",
            "8/8 [==============================] - 2s 239ms/step - loss: 1.3584 - accuracy: 0.4763 - val_loss: 1.3335 - val_accuracy: 0.5020\n",
            "Epoch 5/80\n",
            "8/8 [==============================] - 2s 228ms/step - loss: 1.3203 - accuracy: 0.4955 - val_loss: 1.2985 - val_accuracy: 0.5164\n",
            "Epoch 6/80\n",
            "8/8 [==============================] - 2s 226ms/step - loss: 1.2936 - accuracy: 0.5087 - val_loss: 1.2814 - val_accuracy: 0.5124\n",
            "Epoch 7/80\n",
            "8/8 [==============================] - 2s 228ms/step - loss: 1.2663 - accuracy: 0.5163 - val_loss: 1.2543 - val_accuracy: 0.5200\n",
            "Epoch 8/80\n",
            "8/8 [==============================] - 3s 339ms/step - loss: 1.2449 - accuracy: 0.5315 - val_loss: 1.2339 - val_accuracy: 0.5372\n",
            "Epoch 9/80\n",
            "8/8 [==============================] - 2s 260ms/step - loss: 1.2292 - accuracy: 0.5329 - val_loss: 1.2179 - val_accuracy: 0.5356\n",
            "Epoch 10/80\n",
            "8/8 [==============================] - 2s 238ms/step - loss: 1.2109 - accuracy: 0.5401 - val_loss: 1.2152 - val_accuracy: 0.5328\n",
            "Epoch 11/80\n",
            "8/8 [==============================] - 2s 229ms/step - loss: 1.1993 - accuracy: 0.5445 - val_loss: 1.1960 - val_accuracy: 0.5432\n",
            "Epoch 12/80\n",
            "8/8 [==============================] - 2s 228ms/step - loss: 1.1855 - accuracy: 0.5468 - val_loss: 1.1857 - val_accuracy: 0.5560\n",
            "Epoch 13/80\n",
            "8/8 [==============================] - 2s 230ms/step - loss: 1.1764 - accuracy: 0.5557 - val_loss: 1.1723 - val_accuracy: 0.5548\n",
            "Epoch 14/80\n",
            "8/8 [==============================] - 2s 233ms/step - loss: 1.1652 - accuracy: 0.5583 - val_loss: 1.1670 - val_accuracy: 0.5604\n",
            "Epoch 15/80\n",
            "8/8 [==============================] - 3s 351ms/step - loss: 1.1573 - accuracy: 0.5597 - val_loss: 1.1659 - val_accuracy: 0.5604\n",
            "Epoch 16/80\n",
            "8/8 [==============================] - 2s 229ms/step - loss: 1.1515 - accuracy: 0.5596 - val_loss: 1.1597 - val_accuracy: 0.5576\n",
            "Epoch 17/80\n",
            "8/8 [==============================] - 2s 239ms/step - loss: 1.1430 - accuracy: 0.5604 - val_loss: 1.1455 - val_accuracy: 0.5592\n",
            "Epoch 18/80\n",
            "8/8 [==============================] - 2s 226ms/step - loss: 1.1334 - accuracy: 0.5660 - val_loss: 1.1481 - val_accuracy: 0.5484\n",
            "Epoch 19/80\n",
            "8/8 [==============================] - 2s 229ms/step - loss: 1.1290 - accuracy: 0.5699 - val_loss: 1.1380 - val_accuracy: 0.5648\n",
            "Epoch 20/80\n",
            "8/8 [==============================] - 2s 224ms/step - loss: 1.1248 - accuracy: 0.5668 - val_loss: 1.1551 - val_accuracy: 0.5364\n",
            "Epoch 21/80\n",
            "8/8 [==============================] - 2s 296ms/step - loss: 1.1213 - accuracy: 0.5679 - val_loss: 1.1427 - val_accuracy: 0.5640\n",
            "Epoch 22/80\n",
            "8/8 [==============================] - 2s 301ms/step - loss: 1.1177 - accuracy: 0.5703 - val_loss: 1.1148 - val_accuracy: 0.5820\n",
            "Epoch 23/80\n",
            "8/8 [==============================] - 2s 233ms/step - loss: 1.1091 - accuracy: 0.5752 - val_loss: 1.1402 - val_accuracy: 0.5416\n",
            "Epoch 24/80\n",
            "8/8 [==============================] - 2s 227ms/step - loss: 1.1075 - accuracy: 0.5731 - val_loss: 1.1134 - val_accuracy: 0.5784\n",
            "Epoch 25/80\n",
            "8/8 [==============================] - 2s 228ms/step - loss: 1.0936 - accuracy: 0.5827 - val_loss: 1.1114 - val_accuracy: 0.5740\n",
            "Epoch 26/80\n",
            "8/8 [==============================] - 2s 228ms/step - loss: 1.0949 - accuracy: 0.5787 - val_loss: 1.1219 - val_accuracy: 0.5524\n",
            "Epoch 27/80\n",
            "8/8 [==============================] - 2s 226ms/step - loss: 1.0904 - accuracy: 0.5817 - val_loss: 1.1059 - val_accuracy: 0.5876\n",
            "Epoch 28/80\n",
            "8/8 [==============================] - 2s 318ms/step - loss: 1.0881 - accuracy: 0.5789 - val_loss: 1.0984 - val_accuracy: 0.5680\n",
            "Epoch 29/80\n",
            "8/8 [==============================] - 2s 286ms/step - loss: 1.0763 - accuracy: 0.5873 - val_loss: 1.0881 - val_accuracy: 0.5836\n",
            "Epoch 30/80\n",
            "8/8 [==============================] - 2s 231ms/step - loss: 1.0751 - accuracy: 0.5885 - val_loss: 1.0856 - val_accuracy: 0.5844\n",
            "Epoch 31/80\n",
            "8/8 [==============================] - 2s 228ms/step - loss: 1.0802 - accuracy: 0.5857 - val_loss: 1.0860 - val_accuracy: 0.5908\n",
            "Epoch 32/80\n",
            "8/8 [==============================] - 2s 236ms/step - loss: 1.0633 - accuracy: 0.5921 - val_loss: 1.0832 - val_accuracy: 0.5820\n",
            "Epoch 33/80\n",
            "8/8 [==============================] - 2s 235ms/step - loss: 1.0597 - accuracy: 0.5976 - val_loss: 1.0794 - val_accuracy: 0.5796\n",
            "Epoch 34/80\n",
            "8/8 [==============================] - 2s 238ms/step - loss: 1.0602 - accuracy: 0.5927 - val_loss: 1.0968 - val_accuracy: 0.5792\n",
            "Epoch 35/80\n",
            "8/8 [==============================] - 3s 342ms/step - loss: 1.0545 - accuracy: 0.5944 - val_loss: 1.0923 - val_accuracy: 0.5684\n",
            "Epoch 36/80\n",
            "8/8 [==============================] - 2s 254ms/step - loss: 1.0598 - accuracy: 0.5880 - val_loss: 1.0922 - val_accuracy: 0.5708\n",
            "Epoch 37/80\n",
            "8/8 [==============================] - 2s 240ms/step - loss: 1.0494 - accuracy: 0.5999 - val_loss: 1.0718 - val_accuracy: 0.5792\n",
            "Epoch 38/80\n",
            "8/8 [==============================] - 2s 238ms/step - loss: 1.0446 - accuracy: 0.6025 - val_loss: 1.0697 - val_accuracy: 0.6008\n",
            "Epoch 39/80\n",
            "8/8 [==============================] - 2s 227ms/step - loss: 1.0398 - accuracy: 0.5993 - val_loss: 1.0761 - val_accuracy: 0.5780\n",
            "Epoch 40/80\n",
            "8/8 [==============================] - 2s 233ms/step - loss: 1.0479 - accuracy: 0.5924 - val_loss: 1.0720 - val_accuracy: 0.5752\n",
            "Epoch 41/80\n",
            "8/8 [==============================] - 2s 236ms/step - loss: 1.0332 - accuracy: 0.6087 - val_loss: 1.0595 - val_accuracy: 0.5976\n",
            "Epoch 42/80\n",
            "8/8 [==============================] - 2s 308ms/step - loss: 1.0329 - accuracy: 0.6005 - val_loss: 1.0698 - val_accuracy: 0.5760\n",
            "Epoch 43/80\n",
            "8/8 [==============================] - 2s 250ms/step - loss: 1.0658 - accuracy: 0.5748 - val_loss: 1.0814 - val_accuracy: 0.5788\n",
            "Epoch 44/80\n",
            "8/8 [==============================] - 2s 230ms/step - loss: 1.0254 - accuracy: 0.6092 - val_loss: 1.0801 - val_accuracy: 0.5836\n",
            "Epoch 45/80\n",
            "8/8 [==============================] - 2s 238ms/step - loss: 1.0243 - accuracy: 0.6067 - val_loss: 1.0582 - val_accuracy: 0.5996\n",
            "Epoch 46/80\n",
            "8/8 [==============================] - 2s 227ms/step - loss: 1.0227 - accuracy: 0.6043 - val_loss: 1.0486 - val_accuracy: 0.5996\n",
            "Epoch 47/80\n",
            "8/8 [==============================] - 2s 228ms/step - loss: 1.0168 - accuracy: 0.6127 - val_loss: 1.0751 - val_accuracy: 0.5856\n",
            "Epoch 48/80\n",
            "8/8 [==============================] - 2s 281ms/step - loss: 1.0190 - accuracy: 0.6065 - val_loss: 1.0516 - val_accuracy: 0.5908\n",
            "Epoch 49/80\n",
            "8/8 [==============================] - 2s 301ms/step - loss: 1.0134 - accuracy: 0.6095 - val_loss: 1.0547 - val_accuracy: 0.5832\n",
            "Epoch 50/80\n",
            "8/8 [==============================] - 2s 228ms/step - loss: 1.0372 - accuracy: 0.5901 - val_loss: 1.0534 - val_accuracy: 0.5880\n",
            "Epoch 51/80\n",
            "8/8 [==============================] - 2s 238ms/step - loss: 1.0083 - accuracy: 0.6120 - val_loss: 1.0399 - val_accuracy: 0.5960\n",
            "Epoch 52/80\n",
            "8/8 [==============================] - 2s 231ms/step - loss: 1.0051 - accuracy: 0.6155 - val_loss: 1.0597 - val_accuracy: 0.5884\n",
            "Epoch 53/80\n",
            "8/8 [==============================] - 2s 227ms/step - loss: 1.0050 - accuracy: 0.6103 - val_loss: 1.0406 - val_accuracy: 0.6076\n",
            "Epoch 54/80\n",
            "8/8 [==============================] - 2s 228ms/step - loss: 1.0045 - accuracy: 0.6148 - val_loss: 1.0375 - val_accuracy: 0.5964\n",
            "Epoch 55/80\n",
            "8/8 [==============================] - 2s 263ms/step - loss: 0.9923 - accuracy: 0.6204 - val_loss: 1.0368 - val_accuracy: 0.6076\n",
            "Epoch 56/80\n",
            "8/8 [==============================] - 3s 352ms/step - loss: 0.9923 - accuracy: 0.6160 - val_loss: 1.0410 - val_accuracy: 0.5932\n",
            "Epoch 57/80\n",
            "8/8 [==============================] - 2s 227ms/step - loss: 0.9905 - accuracy: 0.6192 - val_loss: 1.0286 - val_accuracy: 0.6108\n",
            "Epoch 58/80\n",
            "8/8 [==============================] - 2s 231ms/step - loss: 0.9901 - accuracy: 0.6209 - val_loss: 1.0321 - val_accuracy: 0.5900\n",
            "Epoch 59/80\n",
            "8/8 [==============================] - 2s 241ms/step - loss: 0.9846 - accuracy: 0.6205 - val_loss: 1.0587 - val_accuracy: 0.6024\n",
            "Epoch 60/80\n",
            "8/8 [==============================] - 2s 242ms/step - loss: 1.0012 - accuracy: 0.6115 - val_loss: 1.0325 - val_accuracy: 0.6052\n",
            "Epoch 61/80\n",
            "8/8 [==============================] - 2s 231ms/step - loss: 1.0068 - accuracy: 0.6060 - val_loss: 1.0509 - val_accuracy: 0.5876\n",
            "Epoch 62/80\n",
            "8/8 [==============================] - 3s 334ms/step - loss: 1.0040 - accuracy: 0.6045 - val_loss: 1.0224 - val_accuracy: 0.6036\n",
            "Epoch 63/80\n",
            "8/8 [==============================] - 2s 271ms/step - loss: 0.9760 - accuracy: 0.6288 - val_loss: 1.0283 - val_accuracy: 0.6012\n",
            "Epoch 64/80\n",
            "8/8 [==============================] - 2s 227ms/step - loss: 0.9801 - accuracy: 0.6204 - val_loss: 1.0255 - val_accuracy: 0.6116\n",
            "Epoch 65/80\n",
            "8/8 [==============================] - 2s 234ms/step - loss: 0.9818 - accuracy: 0.6220 - val_loss: 1.0199 - val_accuracy: 0.6012\n",
            "Epoch 66/80\n",
            "8/8 [==============================] - 2s 227ms/step - loss: 0.9701 - accuracy: 0.6291 - val_loss: 1.0369 - val_accuracy: 0.5964\n",
            "Epoch 67/80\n",
            "8/8 [==============================] - 2s 227ms/step - loss: 0.9814 - accuracy: 0.6167 - val_loss: 1.0138 - val_accuracy: 0.6040\n",
            "Epoch 68/80\n",
            "8/8 [==============================] - 2s 241ms/step - loss: 0.9659 - accuracy: 0.6305 - val_loss: 1.0186 - val_accuracy: 0.6044\n",
            "Epoch 69/80\n",
            "8/8 [==============================] - 3s 353ms/step - loss: 0.9607 - accuracy: 0.6287 - val_loss: 1.0273 - val_accuracy: 0.6088\n",
            "Epoch 70/80\n",
            "8/8 [==============================] - 2s 248ms/step - loss: 0.9679 - accuracy: 0.6256 - val_loss: 1.0409 - val_accuracy: 0.5864\n",
            "Epoch 71/80\n",
            "8/8 [==============================] - 2s 229ms/step - loss: 0.9649 - accuracy: 0.6275 - val_loss: 1.0294 - val_accuracy: 0.5820\n",
            "Epoch 72/80\n",
            "8/8 [==============================] - 2s 229ms/step - loss: 0.9716 - accuracy: 0.6224 - val_loss: 1.0121 - val_accuracy: 0.5956\n",
            "Epoch 73/80\n",
            "8/8 [==============================] - 2s 231ms/step - loss: 0.9685 - accuracy: 0.6281 - val_loss: 1.0142 - val_accuracy: 0.6080\n",
            "Epoch 74/80\n",
            "8/8 [==============================] - 2s 242ms/step - loss: 0.9547 - accuracy: 0.6352 - val_loss: 1.0264 - val_accuracy: 0.5984\n",
            "Epoch 75/80\n",
            "8/8 [==============================] - 2s 254ms/step - loss: 0.9520 - accuracy: 0.6357 - val_loss: 1.0043 - val_accuracy: 0.6180\n",
            "Epoch 76/80\n",
            "8/8 [==============================] - 3s 356ms/step - loss: 0.9509 - accuracy: 0.6351 - val_loss: 1.0161 - val_accuracy: 0.6136\n",
            "Epoch 77/80\n",
            "8/8 [==============================] - 2s 227ms/step - loss: 0.9700 - accuracy: 0.6171 - val_loss: 1.0081 - val_accuracy: 0.6148\n",
            "Epoch 78/80\n",
            "8/8 [==============================] - 2s 229ms/step - loss: 0.9531 - accuracy: 0.6283 - val_loss: 1.0218 - val_accuracy: 0.6056\n",
            "Epoch 79/80\n",
            "8/8 [==============================] - 2s 229ms/step - loss: 0.9434 - accuracy: 0.6381 - val_loss: 1.0070 - val_accuracy: 0.6080\n",
            "Epoch 80/80\n",
            "8/8 [==============================] - 2s 228ms/step - loss: 0.9436 - accuracy: 0.6379 - val_loss: 1.0165 - val_accuracy: 0.6088\n"
          ]
        }
      ],
      "source": [
        "# обучаем нейросеть\n",
        "H = model.fit(trainX, trainY, validation_data=(testX, testY),\n",
        "\tepochs=EPOCHS, batch_size=1000)"
      ]
    },
    {
      "cell_type": "code",
      "execution_count": null,
      "metadata": {
        "colab": {
          "base_uri": "https://localhost:8080/"
        },
        "id": "PY9wsvHSQXd4",
        "outputId": "3e2c62e1-9933-4a12-91c2-6d367c3affb6"
      },
      "outputs": [
        {
          "name": "stdout",
          "output_type": "stream",
          "text": [
            "[INFO] evaluating network...\n",
            "79/79 [==============================] - 1s 7ms/step\n",
            "              precision    recall  f1-score   support\n",
            "\n",
            "   buildings       0.44      0.63      0.52       505\n",
            "      forest       0.80      0.73      0.76       511\n",
            "    mountain       0.72      0.56      0.63       491\n",
            "         sea       0.61      0.47      0.53       501\n",
            "      street       0.59      0.66      0.62       492\n",
            "\n",
            "    accuracy                           0.61      2500\n",
            "   macro avg       0.63      0.61      0.61      2500\n",
            "weighted avg       0.63      0.61      0.61      2500\n",
            "\n"
          ]
        }
      ],
      "source": [
        "# оцениваем нейросеть\n",
        "print(\"[INFO] evaluating network...\")\n",
        "predictions = model.predict(testX, batch_size=32)\n",
        "print(classification_report(testY.argmax(axis=1),\n",
        "\tpredictions.argmax(axis=1), target_names=lb.classes_))"
      ]
    },
    {
      "cell_type": "code",
      "execution_count": null,
      "metadata": {
        "colab": {
          "base_uri": "https://localhost:8080/",
          "height": 305
        },
        "id": "AduTqh6ZQXfx",
        "outputId": "710f2069-7e1d-41ff-9e23-25bcc57741f7"
      },
      "outputs": [
        {
          "data": {
            "image/png": "[encoded data removed]",
            "text/plain": [
              "<PIL.Image.Image image mode=RGB size=432x288 at 0x7F6F16F61C40>"
            ]
          },
          "metadata": {},
          "output_type": "display_data"
        }
      ],
      "source": [
        "# строим графики потерь и точности\n",
        "N = np.arange(0, EPOCHS)\n",
        "plt.style.use(\"ggplot\")\n",
        "plt.figure()\n",
        "plt.plot(N, H.history[\"loss\"], label=\"train_loss\")\n",
        "plt.plot(N, H.history[\"val_loss\"], label=\"val_loss\")\n",
        "plt.plot(N, H.history[\"accuracy\"], label=\"train_acc\")\n",
        "plt.plot(N, H.history[\"val_accuracy\"], label=\"val_acc\")\n",
        "plt.title(\"Training Loss and Accuracy (Simple NN)\")\n",
        "plt.xlabel(\"Epoch #\")\n",
        "plt.ylabel(\"Loss/Accuracy\")\n",
        "plt.legend()\n",
        "plt.savefig('plot.png')\n",
        "cv2_imshow(cv2.imread(\"plot.png\"))\n"
      ]
    },
    {
      "cell_type": "code",
      "execution_count": null,
      "metadata": {
        "colab": {
          "base_uri": "https://localhost:8080/"
        },
        "id": "Dzu1jExLuwr3",
        "outputId": "351a5c1f-bf6f-4847-ace8-8ca97a229637"
      },
      "outputs": [
        {
          "name": "stdout",
          "output_type": "stream",
          "text": [
            "[INFO] serializing network and label binarizer...\n"
          ]
        }
      ],
      "source": [
        "# сохраняем модель и метки классов в бинарном представлении на диск\n",
        "print(\"[INFO] serializing network and label binarizer...\")\n",
        "model.save(\"model.h5\", save_format=\"h5\")\n",
        "f = open(\"label_bin\", \"wb\")\n",
        "f.write(pickle.dumps(lb))\n",
        "f.close()"
      ]
    },
    {
      "cell_type": "markdown",
      "metadata": {
        "id": "YjyCuhw1aeti"
      },
      "source": [
        "# Проверка обученной модели пользовательскими данными"
      ]
    },
    {
      "cell_type": "code",
      "execution_count": null,
      "metadata": {
        "id": "Ssqx2R62cCKg"
      },
      "outputs": [],
      "source": [
        "from keras.models import load_model\n",
        "import argparse\n",
        "import pickle\n",
        "import cv2"
      ]
    },
    {
      "cell_type": "code",
      "execution_count": null,
      "metadata": {
        "colab": {
          "base_uri": "https://localhost:8080/",
          "height": 106
        },
        "id": "0Fw4zpPPcJeU",
        "outputId": "a945b406-79e6-4269-be28-530964a0e425"
      },
      "outputs": [
        {
          "data": {
            "text/html": [
              "\n",
              "     <input type=\"file\" id=\"files-b214fb5c-62ad-4ad2-8281-2969074c9e57\" name=\"files[]\" multiple disabled\n",
              "        style=\"border:none\" />\n",
              "     <output id=\"result-b214fb5c-62ad-4ad2-8281-2969074c9e57\">\n",
              "      Upload widget is only available when the cell has been executed in the\n",
              "      current browser session. Please rerun this cell to enable.\n",
              "      </output>\n",
              "      <script>// Copyright 2017 Google LLC\n",
              "//\n",
              "// Licensed under the Apache License, Version 2.0 (the \"License\");\n",
              "// you may not use this file except in compliance with the License.\n",
              "// You may obtain a copy of the License at\n",
              "//\n",
              "//      http://www.apache.org/licenses/LICENSE-2.0\n",
              "//\n",
              "// Unless required by applicable law or agreed to in writing, software\n",
              "// distributed under the License is distributed on an \"AS IS\" BASIS,\n",
              "// WITHOUT WARRANTIES OR CONDITIONS OF ANY KIND, either express or implied.\n",
              "// See the License for the specific language governing permissions and\n",
              "// limitations under the License.\n",
              "\n",
              "/**\n",
              " * @fileoverview Helpers for google.colab Python module.\n",
              " */\n",
              "(function(scope) {\n",
              "function span(text, styleAttributes = {}) {\n",
              "  const element = document.createElement('span');\n",
              "  element.textContent = text;\n",
              "  for (const key of Object.keys(styleAttributes)) {\n",
              "    element.style[key] = styleAttributes[key];\n",
              "  }\n",
              "  return element;\n",
              "}\n",
              "\n",
              "// Max number of bytes which will be uploaded at a time.\n",
              "const MAX_PAYLOAD_SIZE = 100 * 1024;\n",
              "\n",
              "function _uploadFiles(inputId, outputId) {\n",
              "  const steps = uploadFilesStep(inputId, outputId);\n",
              "  const outputElement = document.getElementById(outputId);\n",
              "  // Cache steps on the outputElement to make it available for the next call\n",
              "  // to uploadFilesContinue from Python.\n",
              "  outputElement.steps = steps;\n",
              "\n",
              "  return _uploadFilesContinue(outputId);\n",
              "}\n",
              "\n",
              "// This is roughly an async generator (not supported in the browser yet),\n",
              "// where there are multiple asynchronous steps and the Python side is going\n",
              "// to poll for completion of each step.\n",
              "// This uses a Promise to block the python side on completion of each step,\n",
              "// then passes the result of the previous step as the input to the next step.\n",
              "function _uploadFilesContinue(outputId) {\n",
              "  const outputElement = document.getElementById(outputId);\n",
              "  const steps = outputElement.steps;\n",
              "\n",
              "  const next = steps.next(outputElement.lastPromiseValue);\n",
              "  return Promise.resolve(next.value.promise).then((value) => {\n",
              "    // Cache the last promise value to make it available to the next\n",
              "    // step of the generator.\n",
              "    outputElement.lastPromiseValue = value;\n",
              "    return next.value.response;\n",
              "  });\n",
              "}\n",
              "\n",
              "/**\n",
              " * Generator function which is called between each async step of the upload\n",
              " * process.\n",
              " * @param {string} inputId Element ID of the input file picker element.\n",
              " * @param {string} outputId Element ID of the output display.\n",
              " * @return {!Iterable<!Object>} Iterable of next steps.\n",
              " */\n",
              "function* uploadFilesStep(inputId, outputId) {\n",
              "  const inputElement = document.getElementById(inputId);\n",
              "  inputElement.disabled = false;\n",
              "\n",
              "  const outputElement = document.getElementById(outputId);\n",
              "  outputElement.innerHTML = '';\n",
              "\n",
              "  const pickedPromise = new Promise((resolve) => {\n",
              "    inputElement.addEventListener('change', (e) => {\n",
              "      resolve(e.target.files);\n",
              "    });\n",
              "  });\n",
              "\n",
              "  const cancel = document.createElement('button');\n",
              "  inputElement.parentElement.appendChild(cancel);\n",
              "  cancel.textContent = 'Cancel upload';\n",
              "  const cancelPromise = new Promise((resolve) => {\n",
              "    cancel.onclick = () => {\n",
              "      resolve(null);\n",
              "    };\n",
              "  });\n",
              "\n",
              "  // Wait for the user to pick the files.\n",
              "  const files = yield {\n",
              "    promise: Promise.race([pickedPromise, cancelPromise]),\n",
              "    response: {\n",
              "      action: 'starting',\n",
              "    }\n",
              "  };\n",
              "\n",
              "  cancel.remove();\n",
              "\n",
              "  // Disable the input element since further picks are not allowed.\n",
              "  inputElement.disabled = true;\n",
              "\n",
              "  if (!files) {\n",
              "    return {\n",
              "      response: {\n",
              "        action: 'complete',\n",
              "      }\n",
              "    };\n",
              "  }\n",
              "\n",
              "  for (const file of files) {\n",
              "    const li = document.createElement('li');\n",
              "    li.append(span(file.name, {fontWeight: 'bold'}));\n",
              "    li.append(span(\n",
              "        `(${file.type || 'n/a'}) - ${file.size} bytes, ` +\n",
              "        `last modified: ${\n",
              "            file.lastModifiedDate ? file.lastModifiedDate.toLocaleDateString() :\n",
              "                                    'n/a'} - `));\n",
              "    const percent = span('0% done');\n",
              "    li.appendChild(percent);\n",
              "\n",
              "    outputElement.appendChild(li);\n",
              "\n",
              "    const fileDataPromise = new Promise((resolve) => {\n",
              "      const reader = new FileReader();\n",
              "      reader.onload = (e) => {\n",
              "        resolve(e.target.result);\n",
              "      };\n",
              "      reader.readAsArrayBuffer(file);\n",
              "    });\n",
              "    // Wait for the data to be ready.\n",
              "    let fileData = yield {\n",
              "      promise: fileDataPromise,\n",
              "      response: {\n",
              "        action: 'continue',\n",
              "      }\n",
              "    };\n",
              "\n",
              "    // Use a chunked sending to avoid message size limits. See b/62115660.\n",
              "    let position = 0;\n",
              "    do {\n",
              "      const length = Math.min(fileData.byteLength - position, MAX_PAYLOAD_SIZE);\n",
              "      const chunk = new Uint8Array(fileData, position, length);\n",
              "      position += length;\n",
              "\n",
              "      const base64 = btoa(String.fromCharCode.apply(null, chunk));\n",
              "      yield {\n",
              "        response: {\n",
              "          action: 'append',\n",
              "          file: file.name,\n",
              "          data: base64,\n",
              "        },\n",
              "      };\n",
              "\n",
              "      let percentDone = fileData.byteLength === 0 ?\n",
              "          100 :\n",
              "          Math.round((position / fileData.byteLength) * 100);\n",
              "      percent.textContent = `${percentDone}% done`;\n",
              "\n",
              "    } while (position < fileData.byteLength);\n",
              "  }\n",
              "\n",
              "  // All done.\n",
              "  yield {\n",
              "    response: {\n",
              "      action: 'complete',\n",
              "    }\n",
              "  };\n",
              "}\n",
              "\n",
              "scope.google = scope.google || {};\n",
              "scope.google.colab = scope.google.colab || {};\n",
              "scope.google.colab._files = {\n",
              "  _uploadFiles,\n",
              "  _uploadFilesContinue,\n",
              "};\n",
              "})(self);\n",
              "</script> "
            ],
            "text/plain": [
              "<IPython.core.display.HTML object>"
            ]
          },
          "metadata": {},
          "output_type": "display_data"
        },
        {
          "name": "stdout",
          "output_type": "stream",
          "text": [
            "Saving 20108.jpg to 20108.jpg\n"
          ]
        },
        {
          "data": {
            "image/png": "[encoded data removed]",
            "text/plain": [
              "<PIL.Image.Image image mode=RGB size=32x32 at 0x7F6F151610A0>"
            ]
          },
          "metadata": {},
          "output_type": "display_data"
        }
      ],
      "source": [
        "# Добавляем интерфейс для загрузки изображений напрямую из блокнота\n",
        "from google.colab import files\n",
        "uploaded = files.upload() \n",
        "\n",
        "# загружаем входное изображение, меняем его размер на необходимый и выводим его\n",
        "image = cv2.imread(list(uploaded.keys())[0])\n",
        "output = image.copy()\n",
        "image = cv2.resize(image, (32, 32))\n",
        "cv2_imshow(image)"
      ]
    },
    {
      "cell_type": "code",
      "execution_count": null,
      "metadata": {
        "id": "4ZCfg-F-cJaU"
      },
      "outputs": [],
      "source": [
        "# \"Выравниваем\" изображение (преобразуем его в вектор. Из 32х32х3 -> 3072)\n",
        "image = image.flatten()\n",
        "# масштабируем значения пикселей к диапазону [0, 1]\n",
        "image = image.astype(\"float\") / 255.0\n",
        "image = image.reshape((1, image.shape[0]))"
      ]
    },
    {
      "cell_type": "code",
      "execution_count": null,
      "metadata": {
        "colab": {
          "base_uri": "https://localhost:8080/"
        },
        "id": "QQTsNN7ZcJcT",
        "outputId": "264fd8bb-ee94-4e53-fe35-58da0bdb135b"
      },
      "outputs": [
        {
          "name": "stdout",
          "output_type": "stream",
          "text": [
            "[INFO] loading network and label binarizer...\n"
          ]
        }
      ],
      "source": [
        "# загружаем модель и бинаризатор меток\n",
        "from keras import models    \n",
        "print(\"[INFO] loading network and label binarizer...\")\n",
        "model = models.load_model(\"model.h5\")\n",
        "lb = pickle.loads(open(\"label_bin\", \"rb\").read())"
      ]
    },
    {
      "cell_type": "code",
      "execution_count": null,
      "metadata": {
        "colab": {
          "base_uri": "https://localhost:8080/"
        },
        "id": "XhpQmVI8cJiG",
        "outputId": "28ab36b8-9b5f-4e24-fc71-85a5d4953e56"
      },
      "outputs": [
        {
          "name": "stdout",
          "output_type": "stream",
          "text": [
            "1/1 [==============================] - 0s 66ms/step\n",
            "[[0.00954599 0.95961356 0.00253107 0.01216975 0.01613952]]\n"
          ]
        }
      ],
      "source": [
        "# делаем предсказание на изображении\n",
        "preds = model.predict(image)\n",
        "print(preds)"
      ]
    },
    {
      "cell_type": "code",
      "execution_count": null,
      "metadata": {
        "id": "qcpEtlLMirga"
      },
      "outputs": [],
      "source": [
        "# находим индекс метки класса с наибольшей вероятностью\n",
        "# соответствия\n",
        "i = preds.argmax(axis=1)[0]\n",
        "label = lb.classes_[i]"
      ]
    },
    {
      "cell_type": "code",
      "execution_count": null,
      "metadata": {
        "colab": {
          "base_uri": "https://localhost:8080/"
        },
        "id": "fqA8fzmYhHXY",
        "outputId": "9d7ef470-2494-49b2-e595-ba9cbb2818d7"
      },
      "outputs": [
        {
          "data": {
            "text/plain": [
              "array([[[  8,  62,  49],\n",
              "        [  6,  63,  48],\n",
              "        [  0,  52,  37],\n",
              "        ...,\n",
              "        [ 49, 100,  96],\n",
              "        [101, 158, 155],\n",
              "        [ 57, 116, 112]],\n",
              "\n",
              "       [[  3,  61,  50],\n",
              "        [ 27,  89,  75],\n",
              "        [  0,  68,  48],\n",
              "        ...,\n",
              "        [ 21,  75,  68],\n",
              "        [  0,  34,  29],\n",
              "        [ 61, 121, 115]],\n",
              "\n",
              "       [[ 60, 124, 118],\n",
              "        [ 38, 110,  98],\n",
              "        [ 40, 130, 107],\n",
              "        ...,\n",
              "        [  4,  61,  52],\n",
              "        [ 71, 128, 119],\n",
              "        [ 48, 108,  98]],\n",
              "\n",
              "       ...,\n",
              "\n",
              "       [[  0,   1,   7],\n",
              "        [  1,  13,  17],\n",
              "        [ 13,  19,  24],\n",
              "        ...,\n",
              "        [ 19,  34,  37],\n",
              "        [ 10,  25,  28],\n",
              "        [  3,  20,  23]],\n",
              "\n",
              "       [[ 22,  45,  47],\n",
              "        [ 34,  55,  57],\n",
              "        [  6,  23,  26],\n",
              "        ...,\n",
              "        [ 23,  35,  39],\n",
              "        [  3,  15,  19],\n",
              "        [  2,  17,  20]],\n",
              "\n",
              "       [[  8,  33,  35],\n",
              "        [ 43,  68,  70],\n",
              "        [ 30,  51,  52],\n",
              "        ...,\n",
              "        [ 16,  27,  31],\n",
              "        [  7,  19,  23],\n",
              "        [ 15,  27,  31]]], dtype=uint8)"
            ]
          },
          "execution_count": 26,
          "metadata": {},
          "output_type": "execute_result"
        }
      ],
      "source": [
        "# Добавляем на исходное изображение метку класса и вероятность прогноза\n",
        "text = \"{}: {:.2f}%\".format(label, preds[0][i] * 100)\n",
        "cv2.putText(output, text, (10, 30), cv2.FONT_HERSHEY_SIMPLEX, 0.7,\n",
        "\t(0, 0, 255), 2)"
      ]
    },
    {
      "cell_type": "code",
      "execution_count": null,
      "metadata": {
        "colab": {
          "base_uri": "https://localhost:8080/",
          "height": 167
        },
        "id": "eW6mtJRvhJOk",
        "outputId": "7c648a29-d1cd-497c-f605-dd97ea1a50fd"
      },
      "outputs": [
        {
          "data": {
            "image/png": "[encoded data removed]",
            "text/plain": [
              "<PIL.Image.Image image mode=RGB size=150x150 at 0x7F6F16E395E0>"
            ]
          },
          "metadata": {},
          "output_type": "display_data"
        }
      ],
      "source": [
        "# показываем выходное изображение\n",
        "cv2_imshow(output)"
      ]
    }
  ],
  "metadata": {
    "colab": {
      "provenance": []
    },
    "gpuClass": "standard",
    "kernelspec": {
      "display_name": "Python 3",
      "name": "python3"
    },
    "language_info": {
      "codemirror_mode": {
        "name": "ipython",
        "version": 3
      },
      "file_extension": ".py",
      "mimetype": "text/x-python",
      "name": "python",
      "nbconvert_exporter": "python",
      "pygments_lexer": "ipython3",
      "version": "3.11.2"
    }
  },
  "nbformat": 4,
  "nbformat_minor": 0
}